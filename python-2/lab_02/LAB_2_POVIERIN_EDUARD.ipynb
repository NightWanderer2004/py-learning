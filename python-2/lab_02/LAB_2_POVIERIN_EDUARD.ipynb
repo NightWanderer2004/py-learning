{
 "cells": [
  {
   "cell_type": "markdown",
   "metadata": {},
   "source": [
    "# Temat: \"Iteratory i generatory / Wyrażenie generatorowe / Dodatkowe iteratory\"\n",
    "### Imię nazwisko: Eduard Povierin\n",
    "### Grupa: 2TD12A"
   ]
  },
  {
   "cell_type": "markdown",
   "metadata": {},
   "source": [
    "## Zadanie #2"
   ]
  },
  {
   "cell_type": "code",
   "execution_count": 1,
   "metadata": {},
   "outputs": [
    {
     "name": "stdout",
     "output_type": "stream",
     "text": [
      "NieR:Automata\n",
      "is\n",
      "my\n",
      "favourite\n",
      "game\n"
     ]
    }
   ],
   "source": [
    "# Utworzyć iterator lub generator, który dla dowolnego wejściowego tekstu zwróci w każdej iteracji pojedynczy wyraz\n",
    "def word_iterator(text):\n",
    "    words = text.split()\n",
    "    for word in words:\n",
    "        yield word\n",
    "\n",
    "text = \"NieR:Automata is my favourite game\"\n",
    "for word in word_iterator(text):\n",
    "    print(word)\n",
    "    "
   ]
  },
  {
   "cell_type": "markdown",
   "metadata": {},
   "source": [
    "## Zadanie #3"
   ]
  },
  {
   "cell_type": "code",
   "execution_count": 3,
   "metadata": {},
   "outputs": [
    {
     "name": "stdout",
     "output_type": "stream",
     "text": [
      "/Users/night2004/Code/py-learning/python-2/lab_02/LAB_2_POVIERIN_EDUARD.ipynb\n"
     ]
    }
   ],
   "source": [
    "# Utworzyć własny praktyczny przykład iteratora i zaprezentować jego działanie.\n",
    "import os\n",
    "\n",
    "class DirectoryIterator:\n",
    "    def __init__(self, path, extension):\n",
    "        self.path = path\n",
    "        self.extension = extension\n",
    "        self.files = os.listdir(path)\n",
    "        self.current = 0\n",
    "\n",
    "    def __iter__(self):\n",
    "        return self\n",
    "\n",
    "    def __next__(self):\n",
    "        while self.current < len(self.files):\n",
    "            file = self.files[self.current]\n",
    "            self.current += 1\n",
    "            if file.endswith(self.extension):\n",
    "                return os.path.join(self.path, file)\n",
    "        raise StopIteration\n",
    "\n",
    "files = DirectoryIterator('/Users/night2004/Code/py-learning/python-2/lab_02', '.ipynb')\n",
    "for file in files:\n",
    "    print(file)\n"
   ]
  },
  {
   "cell_type": "markdown",
   "metadata": {},
   "source": [
    "## Zadanie #4"
   ]
  },
  {
   "cell_type": "code",
   "execution_count": 6,
   "metadata": {},
   "outputs": [
    {
     "name": "stdout",
     "output_type": "stream",
     "text": [
      "jvncPMuimbM\n",
      "RCrSnV1bVyQ\n",
      "B4Qp6NCW6ua\n",
      "mUZRRQnPPXT\n",
      "wCgrbdX6XAd\n"
     ]
    }
   ],
   "source": [
    "# Utworzyć własny praktyczny przykład generatora i zaprezentować jego działanie.\n",
    "import random\n",
    "import string\n",
    "\n",
    "def password_generator(length):\n",
    "    while True:\n",
    "        password = ''.join(random.choices(string.ascii_letters + string.digits, k=length))\n",
    "        yield password\n",
    "\n",
    "passwords = password_generator(11)\n",
    "for i in range(5):\n",
    "    print(next(passwords))\n"
   ]
  },
  {
   "cell_type": "markdown",
   "metadata": {},
   "source": [
    "## Zadanie #5"
   ]
  },
  {
   "cell_type": "code",
   "execution_count": 7,
   "metadata": {},
   "outputs": [
    {
     "name": "stdout",
     "output_type": "stream",
     "text": [
      "Dave 80000\n",
      "Eve 90000\n"
     ]
    }
   ],
   "source": [
    "# Utworzyć własny praktyczny przykład wyrażenia generatorowego i zaprezentować jego działanie.\n",
    "employees = [\n",
    "    {'name': 'Alice', 'salary': 50000},\n",
    "    {'name': 'Bob', 'salary': 60000},\n",
    "    {'name': 'Charlie', 'salary': 70000},\n",
    "    {'name': 'Dave', 'salary': 80000},\n",
    "    {'name': 'Eve', 'salary': 90000}\n",
    "]\n",
    "\n",
    "high_paid_employees = (employee for employee in employees if employee['salary'] > 70000)\n",
    "\n",
    "for employee in high_paid_employees:\n",
    "    print(employee['name'], employee['salary'])\n"
   ]
  },
  {
   "cell_type": "markdown",
   "metadata": {},
   "source": [
    "## Zadanie #6"
   ]
  },
  {
   "cell_type": "code",
   "execution_count": 13,
   "metadata": {},
   "outputs": [
    {
     "name": "stdout",
     "output_type": "stream",
     "text": [
      "Przykład 1:\n",
      "0\n",
      "2\n",
      "4\n",
      "6\n",
      "8\n",
      "Przykład 2:\n",
      "a\n",
      "b\n",
      "c\n",
      "d\n",
      "e\n",
      "a\n",
      "b\n",
      "c\n",
      "d\n",
      "e\n",
      "a\n",
      "b\n",
      "c\n",
      "d\n",
      "e\n",
      "Przykład 3:\n",
      "1\n",
      "2\n",
      "3\n",
      "4\n",
      "5\n",
      "6\n",
      "Przykład 4:\n",
      "1\n",
      "2\n",
      "3\n"
     ]
    }
   ],
   "source": [
    "# Na własnych przykładach zaprezentować działanie wybranych iteratorów z biblioteki itertools\n",
    "import itertools\n",
    "\n",
    "# 1: count()\n",
    "print(\"Przykład 1:\")\n",
    "even_numbers = itertools.count(start=0, step=2)\n",
    "for i in range(5):\n",
    "    print(next(even_numbers))\n",
    "\n",
    "# 2: cycle()\n",
    "print(\"Przykład 2:\")\n",
    "letters = itertools.cycle('abcde')\n",
    "for i in range(15):\n",
    "    print(next(letters))\n",
    "\n",
    "# 3: chain()\n",
    "print(\"Przykład 3:\")\n",
    "list1 = [1, 2, 3]\n",
    "list2 = [4, 5, 6]\n",
    "combined = itertools.chain(list1, list2)\n",
    "for i in combined:\n",
    "    print(i)\n",
    "\n",
    "# 4: islice()\n",
    "print(\"Przykład 4:\")\n",
    "numbers = [1, 2, 3, 4, 5, 6]\n",
    "sliced = itertools.islice(numbers, 3)\n",
    "for i in sliced:\n",
    "    print(i)\n"
   ]
  },
  {
   "cell_type": "markdown",
   "metadata": {},
   "source": [
    "## Zadanie #7"
   ]
  },
  {
   "cell_type": "code",
   "execution_count": 3,
   "metadata": {},
   "outputs": [
    {
     "name": "stdout",
     "output_type": "stream",
     "text": [
      "Przykład 1:\n",
      "[1, 2, 3]\n",
      "[4, 5, 6]\n",
      "[7, 8, 9]\n",
      "Przykład 2:\n",
      "(1, 2, 3)\n",
      "(2, 3, 4)\n",
      "(3, 4, 5)\n",
      "Przykład 3:\n",
      "('a', 'b', 'c')\n",
      "('d', 'e', 'f')\n",
      "('g', 'h', 'i')\n",
      "Przykład 4:\n",
      "()\n",
      "('a',)\n",
      "('b',)\n",
      "('c',)\n",
      "('a', 'b')\n",
      "('a', 'c')\n",
      "('b', 'c')\n",
      "('a', 'b', 'c')\n"
     ]
    }
   ],
   "source": [
    "# Na własnych przykładach zaprezentować działanie wybranych iteratorów z biblioteki more-itertools.\n",
    "import more_itertools\n",
    "\n",
    "# 1. chunked()\n",
    "print(\"Przykład 1:\")\n",
    "numbers = [1, 2, 3, 4, 5, 6, 7, 8, 9]\n",
    "chunks = more_itertools.chunked(numbers, 3)\n",
    "for chunk in chunks:\n",
    "    print(chunk)\n",
    "\n",
    "# 2. windowed()\n",
    "print(\"Przykład 2:\")\n",
    "numbers = [1, 2, 3, 4, 5]\n",
    "windows = more_itertools.windowed(numbers, 3)\n",
    "for window in windows:\n",
    "    print(window)\n",
    "\n",
    "# 3. grouper()\n",
    "print(\"Przykład 3:\")\n",
    "numbers = ['a', 'b', 'c', 'd', 'e', 'f', 'g', 'h', 'i']\n",
    "groups = more_itertools.grouper(numbers, 3, fillvalue=0)\n",
    "for group in groups:\n",
    "    print(group)\n",
    "\n",
    "# 4. powerset()\n",
    "print(\"Przykład 4:\")\n",
    "letters = ['a', 'b', 'c']\n",
    "subsets = more_itertools.powerset(letters)\n",
    "for subset in subsets:\n",
    "    print(subset)\n",
    " "
   ]
  },
  {
   "cell_type": "markdown",
   "metadata": {},
   "source": [
    "## Dziękuję za uwagę!"
   ]
  }
 ],
 "metadata": {
  "kernelspec": {
   "display_name": "Python 3",
   "language": "python",
   "name": "python3"
  },
  "language_info": {
   "codemirror_mode": {
    "name": "ipython",
    "version": 3
   },
   "file_extension": ".py",
   "mimetype": "text/x-python",
   "name": "python",
   "nbconvert_exporter": "python",
   "pygments_lexer": "ipython3",
   "version": "3.11.3"
  }
 },
 "nbformat": 4,
 "nbformat_minor": 2
}
