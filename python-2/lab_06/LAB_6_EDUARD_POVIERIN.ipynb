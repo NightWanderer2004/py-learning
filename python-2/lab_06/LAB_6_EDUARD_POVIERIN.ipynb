{
 "cells": [
  {
   "cell_type": "markdown",
   "metadata": {},
   "source": [
    "### Przedmiot: Python 2\n",
    "### Temat: \"Serializacja\"\n",
    "### Imię nazwisko: Eduard Povierin\n",
    "### Grupa: 2TD12A"
   ]
  },
  {
   "cell_type": "markdown",
   "metadata": {},
   "source": [
    "---"
   ]
  },
  {
   "cell_type": "markdown",
   "metadata": {},
   "source": [
    "## Cel:\n",
    "Celem ćwiczenia jest zapoznanie z bibliotekami do serializacji w języku Python."
   ]
  },
  {
   "cell_type": "markdown",
   "metadata": {},
   "source": [
    "### Zadanie 1:\n",
    "Zaprezentować wykorzystanie bibliotek pickle i joblib do serializacji oraz deserializacji różnych obiektów Pythona, wykonać serializację, deserializację do ciągu znakowego oraz zapis i odczyt do plików bez kompresji i z kompresj"
   ]
  },
  {
   "cell_type": "markdown",
   "metadata": {},
   "source": [
    "### Przykład 1"
   ]
  },
  {
   "cell_type": "code",
   "execution_count": 1,
   "metadata": {},
   "outputs": [
    {
     "name": "stdout",
     "output_type": "stream",
     "text": [
      "b'\\x80\\x04\\x95\\x11\\x00\\x00\\x00\\x00\\x00\\x00\\x00]\\x94(\\x8c\\x01a\\x94\\x8c\\x01b\\x94\\x8c\\x01c\\x94e.'\n",
      "['a', 'b', 'c']\n",
      "---\n",
      "b'\\x80\\x04\\x95\\x17\\x00\\x00\\x00\\x00\\x00\\x00\\x00}\\x94(\\x8c\\x01a\\x94K\\x01\\x8c\\x01b\\x94K\\x02\\x8c\\x01c\\x94K\\x03u.'\n",
      "{'a': 1, 'b': 2, 'c': 3}\n"
     ]
    }
   ],
   "source": [
    "import pickle\n",
    "\n",
    "serialized1 = pickle.dumps(['a', 'b', 'c'])\n",
    "deserialized1 = pickle.loads(serialized1)\n",
    "print(serialized1)\n",
    "print(deserialized1)\n",
    "\n",
    "print('---')\n",
    "\n",
    "serialized2 = pickle.dumps({'a': 1, 'b': 2, 'c': 3})\n",
    "deserialized2 = pickle.loads(serialized2)\n",
    "print(serialized2)\n",
    "print(deserialized2)"
   ]
  },
  {
   "cell_type": "markdown",
   "metadata": {},
   "source": [
    "### Przykład 2"
   ]
  },
  {
   "cell_type": "code",
   "execution_count": null,
   "metadata": {},
   "outputs": [],
   "source": [
    "# Server\n",
    "import socket\n",
    "import dill\n",
    "\n",
    "host = \"localhost\"\n",
    "port = 1234\n",
    "\n",
    "server = socket.socket(socket.AF_INET, socket.SOCK_STREAM)\n",
    "server.bind((host, port))\n",
    "server.listen(1)\n",
    "\n",
    "def func(a, b):\n",
    "    print(\"Hello from func\")\n",
    "    return a + b\n",
    "\n",
    "while True:\n",
    "    connection, address = server.accept()\n",
    "    \n",
    "    serialized_function = dill.dumps(func)\n",
    "    connection.sendall(bytes(serialized_function))\n",
    "    \n",
    "    connection.close()"
   ]
  },
  {
   "cell_type": "code",
   "execution_count": 4,
   "metadata": {},
   "outputs": [
    {
     "name": "stdout",
     "output_type": "stream",
     "text": [
      "Hello from func\n",
      "4\n"
     ]
    }
   ],
   "source": [
    "# Client\n",
    "import socket\n",
    "import dill\n",
    "\n",
    "host = \"localhost\"\n",
    "port = 1234\n",
    "\n",
    "client = socket.socket(socket.AF_INET, socket.SOCK_STREAM)\n",
    "client.connect((host, port))\n",
    "\n",
    "data = client.recv(8192)\n",
    "deserialized_function = dill.loads(data)\n",
    "result = deserialized_function(2, 2)\n",
    "print(result)\n",
    "\n",
    "client.close()"
   ]
  },
  {
   "cell_type": "markdown",
   "metadata": {},
   "source": [
    "**UWAGA:**\n",
    "\n",
    "Biblioteka `pickle` nie jest w stanie serializować funkcji. Musiałem użyć biblioteki `dill`, która robi to w lepszy sposób.\n",
    "\n",
    "Chciałbym również zauważyć, że w poprzednim ćwiczeniu zastosowałem przykład z serwerem TCP. Modyfikowałem go tak, aby przesyłać dane z zserializowanego obiektu."
   ]
  },
  {
   "cell_type": "markdown",
   "metadata": {},
   "source": [
    "\n",
    "### Zadanie 2:\n",
    "Zaprezentować wykorzystanie biblioteki JSON do serializacji oraz deserializacji różnych typów danych i zapisu oraz odczytu plików"
   ]
  },
  {
   "cell_type": "code",
   "execution_count": 5,
   "metadata": {},
   "outputs": [
    {
     "name": "stdout",
     "output_type": "stream",
     "text": [
      "<class 'str'>\n",
      "{\"name\": \"Eduard\", \"age\": 19, \"hobby\": \"japan games\"}\n",
      "<class 'dict'>\n",
      "{'name': 'Eduard', 'age': 19, 'hobby': 'japan games'}\n"
     ]
    }
   ],
   "source": [
    "import json\n",
    "\n",
    "data = {\n",
    "    'name' : 'Eduard',\n",
    "    'age' : 19,\n",
    "    'hobby' : 'japan games'\n",
    "}\n",
    "\n",
    "# Dumping data to json\n",
    "json_data = json.dumps(data)\n",
    "print(type(json_data))\n",
    "print(json_data)\n",
    "\n",
    "\n",
    "# Loading data from json\n",
    "res_data = json.loads(json_data)\n",
    "print(type(res_data))\n",
    "print(res_data)"
   ]
  },
  {
   "cell_type": "markdown",
   "metadata": {},
   "source": [
    "### Zadanie 3:\n",
    "Zaprezentować wykorzystanie biblioteki YAML do serializacji oraz deserializacji różnych\n",
    "typów danych i zapisu oraz odczytu plików "
   ]
  },
  {
   "cell_type": "code",
   "execution_count": null,
   "metadata": {},
   "outputs": [],
   "source": [
    "import yaml\n",
    "import os \n",
    "\n",
    "dir = os.path.dirname(__file__)\n",
    "\n",
    "# Read\n",
    "with open(f'{dir}/data.yaml', 'r') as file:\n",
    "    data = yaml.safe_load(file)\n",
    "\n",
    "print(data)\n",
    "\n",
    "\n",
    "# Write\n",
    "new_data = {\n",
    "    \"title\": \"Nier:Automata\",\n",
    "    \"developer\": \"PlatinumGames\",\n",
    "    \"genre\": \"Action RPG, drama\",\n",
    "    \"platform\": \"PlayStation 4, Xbox One, Microsoft Windows\",\n",
    "    \"release_date\": \"2017-02-23\",\n",
    "    \"publisher\": \"Square Enix\",\n",
    "}\n",
    "\n",
    "with open(f'{dir}/data.yaml', encoding='utf-8', mode='w') as file:\n",
    "    data['games'].append(new_data)\n",
    "    yaml.dump(data, file, default_flow_style=False, allow_unicode=True) # allow_unicode=True - for saving japanese characters"
   ]
  },
  {
   "cell_type": "markdown",
   "metadata": {},
   "source": [
    "**Przykład YAML**\n",
    "\n",
    "```games:\n",
    "   - genre: RPG\n",
    "     platform: PlayStation 4\n",
    "     publisher: スクウェア・エニックス\n",
    "     release_date: 2020-04-10\n",
    "     title: ファイナルファンタジーVII リメイク\n",
    "   - genre: アクションRPG\n",
    "     platform: Nintendo Switch\n",
    "     publisher: カプコン\n",
    "     release_date: 2021-03-26\n",
    "     title: モンスターハンターライズ\n",
    "   - genre: RPG\n",
    "     platform: PlayStation 4, Nintendo Switch\n",
    "     publisher: スクウェア・エニックス\n",
    "     release_date: 2017-07-29\n",
    "     title: ドラゴンクエストXI 過ぎ去りし時を求めて S\n",
    "   - genre: アクションアドベンチャー\n",
    "     platform: Nintendo Switch\n",
    "     publisher: 任天堂\n",
    "     release_date: 2017-03-03\n",
    "     title: ゼルダの伝説 ブレス オブ ザ ワイルドs\n",
    "   - developer: PlatinumGames\n",
    "     genre: Action RPG, drama\n",
    "     platform: PlayStation 4, Xbox One, Microsoft Windows\n",
    "     publisher: Square Enix\n",
    "     release_date: '2017-02-23'\n",
    "     title: Nier:Automata"
   ]
  },
  {
   "cell_type": "markdown",
   "metadata": {},
   "source": [
    "### Zadanie 5:\n",
    "Wykorzystać bibliotekę MessagePack do serializacji i deserializacji oraz porównać wielkość danych po serializacji z formatem JSON i YAML"
   ]
  },
  {
   "cell_type": "code",
   "execution_count": 6,
   "metadata": {},
   "outputs": [
    {
     "name": "stdout",
     "output_type": "stream",
     "text": [
      "JSON Size: 162 bytes\n",
      "YAML Size: 134 bytes\n",
      "MessagePack Size: 120 bytes\n"
     ]
    }
   ],
   "source": [
    "import json\n",
    "import yaml\n",
    "import msgpack\n",
    "\n",
    "data = {\n",
    "    'title': 'Nier: Automata',\n",
    "    'release': 2017,\n",
    "    'developer': 'Platinum Games',\n",
    "    'publisher': 'Square Enix',\n",
    "    'platforms': ['PC', 'PS4', 'XONE'],\n",
    "    'genre': 'Action RPG',\n",
    "}\n",
    "\n",
    "json_data = json.dumps(data)\n",
    "json_size = len(json_data)\n",
    "\n",
    "yaml_data = yaml.dump(data, default_flow_style=False)\n",
    "yaml_size = len(yaml_data)\n",
    "\n",
    "msgpack_data = msgpack.packb(data)\n",
    "msgpack_size = len(msgpack_data)\n",
    "\n",
    "print(f\"JSON Size: {json_size} bytes\")\n",
    "print(f\"YAML Size: {yaml_size} bytes\")\n",
    "print(f\"MessagePack Size: {msgpack_size} bytes\")\n"
   ]
  },
  {
   "cell_type": "markdown",
   "metadata": {},
   "source": [
    "### Zadanie 6:\n",
    "Wykorzystać bibliotekę Protocol Buffers do serializacji i przesyłania danych różnego typu przez sieć"
   ]
  },
  {
   "cell_type": "markdown",
   "metadata": {},
   "source": [
    "Plik \"person.proto\":\n",
    "\n",
    "---\n",
    "\n",
    "```syntax = \"proto3\";\n",
    "\n",
    "message Person {\n",
    "    required string name = 1;\n",
    "    required int32 id = 2;\n",
    "    optional string email = 3;\n",
    "}\n",
    "```\n",
    "---\n",
    "Dla kompilacji pliku \"person.proto\" do pliku \"person_pb2.py\" użyłem komendy:\n",
    "\n",
    "```protoc --python_out=. person.proto```\n",
    "\n",
    "Po uruchomienu tej komendy w katalogu pojawił się plik \"person_pb2.py\", który zawiera klasę \"Person\" z polami \"name\", \"id\" i \"email\".\n",
    "\n",
    "**UWAGA:** Niestety nie potrafiłem zaimplementować serializacji i deserializacji z użyciem biblioteki Protocol Buffers. Mam problem z instalacją biblioteki \"protobuf\" na swój system."
   ]
  },
  {
   "cell_type": "code",
   "execution_count": null,
   "metadata": {},
   "outputs": [],
   "source": [
    "from person_pb2 import Person\n",
    "\n",
    "person = Person()\n",
    "person.name = \"John Doe\"\n",
    "person.id = 123\n",
    "person.email = \"john@example.com\"\n",
    "\n",
    "serialized_person = person.SerializeToString()\n",
    "\n",
    "new_person = Person()\n",
    "new_person.ParseFromString(serialized_person)\n",
    "\n",
    "print(f\"Name: {new_person.name}\")\n",
    "print(f\"ID: {new_person.id}\")\n",
    "print(f\"Email: {new_person.email}\")"
   ]
  },
  {
   "cell_type": "markdown",
   "metadata": {},
   "source": [
    "## Wnioski:\n",
    "Dobrze zapoznałem się o serializacji i deserialezacji różnych obiektów w języku Python oraz typami plików jak JSON i YAML. Zrozumiałem, że serializacja jest bardzo ważna w programowaniu, ponieważ pozwala na zapisanie obiektów w plikach i przesyłanie ich przez sieć. Serializacja jest również ważna w przypadku, gdy chcemy zapisywać dane w bazie danych jak ja rozumiem.\n",
    "\n",
    "### Dziękuję za uwagę!"
   ]
  }
 ],
 "metadata": {
  "kernelspec": {
   "display_name": ".venv",
   "language": "python",
   "name": "python3"
  },
  "language_info": {
   "codemirror_mode": {
    "name": "ipython",
    "version": 3
   },
   "file_extension": ".py",
   "mimetype": "text/x-python",
   "name": "python",
   "nbconvert_exporter": "python",
   "pygments_lexer": "ipython3",
   "version": "3.11.3"
  }
 },
 "nbformat": 4,
 "nbformat_minor": 2
}
