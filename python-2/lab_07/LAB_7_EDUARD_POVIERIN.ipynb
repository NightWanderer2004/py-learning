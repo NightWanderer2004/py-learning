{
 "cells": [
  {
   "cell_type": "markdown",
   "metadata": {},
   "source": [
    "### Przedmiot: Python 2\n",
    "### Temat: \"Programowanie sieciowe\"\n",
    "### Imię nazwisko: Eduard Povierin\n",
    "### Grupa: 2TD12A"
   ]
  },
  {
   "cell_type": "markdown",
   "metadata": {},
   "source": [
    "---"
   ]
  },
  {
   "cell_type": "markdown",
   "metadata": {},
   "source": [
    "## Cel:\n",
    "Celem ćwiczenia jest zapoznanie z zasadami budowania aplikacji sieciowych w języku Python, z wykorzystaniem HTML i REST"
   ]
  },
  {
   "cell_type": "markdown",
   "metadata": {},
   "source": [
    "### Zadanie 1:\n",
    "Zaprezentować generowanie własnej strony internetowej wyświetlającej tabele z danymi. Strona ma być wygenerowana z wykorzystaniem biblioteki Jinja 2. Dane maja być pobierane z plików CSV"
   ]
  },
  {
   "cell_type": "markdown",
   "metadata": {},
   "source": [
    "Przykładowy plik CSV:\n",
    "```\n",
    "Character,Age\n",
    "Emil, 1459\n",
    "Kaine, 18\n",
    "Nier, 19\n",
    "```"
   ]
  },
  {
   "cell_type": "markdown",
   "metadata": {},
   "source": [
    "Plik 'template.html':\n",
    "```html\n",
    "<!DOCTYPE html>\n",
    "<html lang=\"en\">\n",
    "   <head>\n",
    "      <meta charset=\"UTF-8\" />\n",
    "      <meta http-equiv=\"X-UA-Compatible\" content=\"IE=edge\" />\n",
    "      <meta name=\"viewport\" content=\"width=device-width, initial-scale=1.0\" />\n",
    "      <title>CSV Data Table</title>\n",
    "   </head>\n",
    "   <body>\n",
    "      <table border=\"1\">\n",
    "         <thead>\n",
    "            <tr>\n",
    "               <th>Character</th>\n",
    "               <th>Age</th>\n",
    "            </tr>\n",
    "         </thead>\n",
    "         <tbody>\n",
    "            {% for row in data %}\n",
    "            <tr>\n",
    "               <td>{{ row.Character }}</td>\n",
    "               <td>{{ row.Age }}</td>\n",
    "            </tr>\n",
    "            {% endfor %}\n",
    "         </tbody>\n",
    "      </table>\n",
    "   </body>\n",
    "</html>\n",
    "```"
   ]
  },
  {
   "cell_type": "markdown",
   "metadata": {},
   "source": [
    "I sam kod programu:"
   ]
  },
  {
   "cell_type": "code",
   "execution_count": null,
   "metadata": {},
   "outputs": [],
   "source": [
    "import csv\n",
    "import os\n",
    "from jinja2 import Template\n",
    "\n",
    "path = os.path.dirname(os.path.abspath(__file__))\n",
    "\n",
    "with open(f'{path}/data.csv', 'r') as file:\n",
    "    reader = csv.DictReader(file)\n",
    "    data = list(reader)\n",
    "    \n",
    "jinja_template = open(f'{path}/template.html', 'r').read()\n",
    "html_template = Template(jinja_template).render(data=data)\n",
    "\n",
    "with open(f'{path}/index.html', 'w') as file:\n",
    "    file.write(html_template)"
   ]
  },
  {
   "cell_type": "markdown",
   "metadata": {},
   "source": [
    "Po uruchomieniu programu, strona powinna wyglądać tak:\n",
    "<br>\n",
    "<br>\n",
    "![wynik](./images/table.png)\n"
   ]
  },
  {
   "cell_type": "markdown",
   "metadata": {},
   "source": [
    "### Zadanie 2:\n",
    "Postawić prosty serwis internetowy z wykorzystaniem Flask, bazując na QuickGuide ze strony https://flask.palletsprojects.com/en/3.0.x/quickstart#a-minimal-application"
   ]
  },
  {
   "cell_type": "markdown",
   "metadata": {},
   "source": [
    "Plik 'index.html':\n",
    "```html\n",
    "<!DOCTYPE html>\n",
    "<html lang=\"en\">\n",
    "   <head>\n",
    "      <meta charset=\"UTF-8\" />\n",
    "      <meta http-equiv=\"X-UA-Compatible\" content=\"IE=edge\" />\n",
    "      <meta name=\"viewport\" content=\"width=device-width, initial-scale=1.0\" />\n",
    "      <title>Flask Example</title>\n",
    "   </head>\n",
    "   <body>\n",
    "      <p>Enter your favorite game:</p>\n",
    "      <form action=\"/game\" method=\"post\">\n",
    "         <input type=\"text\" name=\"game\" required />\n",
    "         <input type=\"submit\" value=\"Grade game!\" />\n",
    "      </form>\n",
    "   </body>\n",
    "</html>\n",
    "```"
   ]
  },
  {
   "cell_type": "markdown",
   "metadata": {},
   "source": [
    "Plik 'game.html':\n",
    "```html\n",
    "<!DOCTYPE html>\n",
    "<html lang=\"en\">\n",
    "   <head>\n",
    "      <meta charset=\"UTF-8\" />\n",
    "      <meta http-equiv=\"X-UA-Compatible\" content=\"IE=edge\" />\n",
    "      <meta name=\"viewport\" content=\"width=device-width, initial-scale=1.0\" />\n",
    "      <title>{{ game }}</title>\n",
    "   </head>\n",
    "   <body>\n",
    "      <h1>Game {{ game }} is the best!</h1>\n",
    "   </body>\n",
    "</html>\n",
    "```"
   ]
  },
  {
   "cell_type": "code",
   "execution_count": null,
   "metadata": {},
   "outputs": [],
   "source": [
    "from flask import Flask, render_template, request, redirect, url_for\n",
    "\n",
    "app = Flask(__name__)\n",
    "\n",
    "@app.route('/')\n",
    "def index():\n",
    "    return render_template('index.html')\n",
    "\n",
    "@app.route('/game', methods=['POST', 'GET'])\n",
    "def hello():\n",
    "    if request.method == 'POST':\n",
    "        game = request.form['game']\n",
    "        return render_template('game.html', game=game)\n",
    "    else:\n",
    "        return redirect(url_for('index'))\n",
    "\n",
    "if __name__ == '__main__':\n",
    "    app.run(debug=True)\n"
   ]
  },
  {
   "cell_type": "markdown",
   "metadata": {},
   "source": [
    "Po uruchomieniu programu, w terminalu powinien pojawić się link do strony:\n",
    "```* Serving Flask app 'main'\n",
    " * Debug mode: on\n",
    "WARNING: This is a development server. Do not use it in a production deployment. Use a production WSGI server instead.\n",
    " * Running on http://127.0.0.1:5000\n",
    "Press CTRL+C to quit\n",
    " * Restarting with stat\n",
    " * Debugger is active!\n",
    " * Debugger PIN: 612-408-260\n",
    " ``````"
   ]
  },
  {
   "cell_type": "markdown",
   "metadata": {},
   "source": [
    "Strona powinna wyglądać tak:\n",
    "<br>\n",
    "![wynik](./images/ind.png)\n",
    "<br>\n",
    "A po napisaniu nazwy gry i kliknięciu przycisku, strona powinna wyglądać tak:\n",
    "<br>\n",
    "![wynik](./images/gam.png)"
   ]
  },
  {
   "cell_type": "markdown",
   "metadata": {},
   "source": [
    "### Zadanie 3:\n",
    "Utworzyć serwis internetowy oferujące API z wybranej dziedziny (obliczenia, obsługa tekstów, przetwarzanie danych) z wykorzystaniem FastAPI bazując na First steps ze strony https://fastapi.tiangolo.com/tutorial/first-steps/"
   ]
  },
  {
   "cell_type": "code",
   "execution_count": null,
   "metadata": {},
   "outputs": [],
   "source": [
    "from pydantic import BaseModel\n",
    "\n",
    "class User(BaseModel):\n",
    "    id: int\n",
    "    name: str\n",
    "    email: str\n",
    "    password: str"
   ]
  },
  {
   "cell_type": "code",
   "execution_count": null,
   "metadata": {},
   "outputs": [],
   "source": [
    "from fastapi import FastAPI\n",
    "from models import User\n",
    "\n",
    "app = FastAPI()\n",
    "\n",
    "users = []\n",
    "\n",
    "@app.get(\"/users\")\n",
    "async def get_users():\n",
    "    return users\n",
    "\n",
    "@app.get(\"/users/{user_id}\")\n",
    "async def get_user(user_id: int):\n",
    "    if 1 <= user_id <= len(users):\n",
    "        return users[user_id - 1]\n",
    "    else:\n",
    "        return {\"message\": f\"User with ID {user_id} doesn't exist\"}\n",
    "\n",
    "@app.post(\"/users\")\n",
    "async def create_user(user: User):\n",
    "    users.append(user)\n",
    "    return {\"message\": \"User created successfully\"}\n",
    "\n",
    "@app.put(\"/users/{user_id}\")\n",
    "async def update_user(user_id: int, updated_user: User):\n",
    "    if 1 <= user_id <= len(users):\n",
    "        users[user_id - 1] = updated_user\n",
    "        return {\"message\": f\"User with ID {user_id} updated successfully\"}\n",
    "    else:\n",
    "        return {\"message\": f\"User with ID {user_id} doesn't exist\"}\n",
    "\n",
    "@app.delete(\"/users/{user_id}\")\n",
    "async def delete_user(user_id: int):\n",
    "    if 1 <= user_id <= len(users):\n",
    "        users.pop(user_id - 1)\n",
    "        return {\"message\": f\"User with ID {user_id} deleted successfully\"}\n",
    "    else:\n",
    "        return {\"message\": f\"User with ID {user_id} doesn't exist\"}\n"
   ]
  },
  {
   "cell_type": "markdown",
   "metadata": {},
   "source": [
    "Uruchomamy program w terminalu:\n",
    "```uvicorn main:app --reload```\n",
    "<br>\n",
    "I na stronie 127.0.0.1:8000/docs/ powinno pojawić się API:\n",
    "<br>\n",
    "![wynik](./images/fastapi.png)"
   ]
  },
  {
   "cell_type": "markdown",
   "metadata": {},
   "source": [
    "### Zadanie 4:\n",
    "Utworzyć prostą aplikacje z GUI i wykorzystaniem biblioteki requests pokazującą wykorzystanie API z zadania 3"
   ]
  },
  {
   "cell_type": "code",
   "execution_count": null,
   "metadata": {},
   "outputs": [],
   "source": [
    "import tkinter as tk\n",
    "from tkinter import messagebox\n",
    "import requests\n",
    "\n",
    "url = 'http://localhost:8000'\n",
    "\n",
    "class CRUDApp:\n",
    "    def __init__(self, root):\n",
    "        self.root = root\n",
    "        self.root.title(\"Tkinter CRUD App\")\n",
    "        self.root.geometry(\"400x400\")\n",
    "\n",
    "        self.get_button = tk.Button(root, text=\"Get Users\", command=self.get_users)\n",
    "        self.get_button.pack()\n",
    "\n",
    "        self.label = tk.Label(root, text=\"User ID:\")\n",
    "        self.label.pack()\n",
    "\n",
    "        self.user_id_entry = tk.Entry(root)\n",
    "        self.user_id_entry.pack()\n",
    "\n",
    "        self.name_label = tk.Label(root, text=\"Name:\")\n",
    "        self.name_label.pack()\n",
    "\n",
    "        self.name_entry = tk.Entry(root)\n",
    "        self.name_entry.pack()\n",
    "\n",
    "        self.email_label = tk.Label(root, text=\"Email:\")\n",
    "        self.email_label.pack()\n",
    "\n",
    "        self.email_entry = tk.Entry(root)\n",
    "        self.email_entry.pack()\n",
    "\n",
    "        self.password_label = tk.Label(root, text=\"Password:\")\n",
    "        self.password_label.pack()\n",
    "\n",
    "        self.password_entry = tk.Entry(root)\n",
    "        self.password_entry.pack()\n",
    "\n",
    "        self.create_button = tk.Button(root, text=\"Create User\", command=self.create_user)\n",
    "        self.create_button.pack()\n",
    "\n",
    "        self.update_button = tk.Button(root, text=\"Update User\", command=self.update_user)\n",
    "        self.update_button.pack()\n",
    "\n",
    "        self.delete_button = tk.Button(root, text=\"Delete User\", command=self.confirm_delete_user)\n",
    "        self.delete_button.pack()\n",
    "\n",
    "    def get_users(self):\n",
    "        try:\n",
    "            response = requests.get(f\"{url}/users\")\n",
    "            users_data = response.json()\n",
    "            messagebox.showinfo(\"Users Details\", str(users_data))\n",
    "        except Exception as e:\n",
    "            messagebox.showerror(\"Error\", f\"Error: {e}\")\n",
    "\n",
    "    def create_user(self):\n",
    "        try:\n",
    "            user_id = self.user_id_entry.get()\n",
    "            name = self.name_entry.get()\n",
    "            email = self.email_entry.get()\n",
    "            password = self.password_entry.get()\n",
    "\n",
    "            response = requests.post(f\"{url}/users\", json={\n",
    "                \"id\": user_id,\n",
    "                \"name\": name,\n",
    "                \"email\": email,\n",
    "                \"password\": password\n",
    "            })\n",
    "            messagebox.showinfo(\"Success\", \"User created successfully\")\n",
    "        except Exception as e:\n",
    "            messagebox.showerror(\"Error\", f\"Error: {response.json()['message']}\")\n",
    "            messagebox.showerror(\"Error\", f\"Error: {e}\")\n",
    "\n",
    "    def update_user(self):\n",
    "        try:\n",
    "            response = requests.put(f\"{url}/users/{self.user_id_entry.get()}\", json={\n",
    "                \"id\": self.user_id_entry.get(),\n",
    "                \"name\": self.name_entry.get(),\n",
    "                \"email\": self.email_entry.get(),\n",
    "                \"password\": self.password_entry.get()\n",
    "            })\n",
    "            messagebox.showinfo(\"Success\", \"User updated successfully\")\n",
    "        except Exception as e:\n",
    "            messagebox.showerror(\"Error\", f\"Error: {response.json()['message']}\")\n",
    "            messagebox.showerror(\"Error\", f\"Error: {e}\")\n",
    "\n",
    "    def confirm_delete_user(self):\n",
    "        confirmation = messagebox.askokcancel(\"Delete Confirmation\", \"Are you sure you want to delete this user?\")\n",
    "        if confirmation:\n",
    "            self.delete_user()\n",
    "\n",
    "    def delete_user(self):\n",
    "        try:\n",
    "            response = requests.delete(f\"{url}/users/{self.user_id_entry.get()}\")\n",
    "            messagebox.showinfo(\"Success\", \"User deleted successfully\")\n",
    "        except Exception as e:\n",
    "            messagebox.showerror(\"Error\", f\"Error: {response.json()['message']}\")\n",
    "            messagebox.showerror(\"Error\", f\"Error: {e}\")\n",
    "\n",
    "if __name__ == \"__main__\":\n",
    "    root = tk.Tk()\n",
    "    app = CRUDApp(root)\n",
    "    root.mainloop()\n"
   ]
  },
  {
   "cell_type": "markdown",
   "metadata": {},
   "source": [
    "Tworzenie nowego użytkownika:\n",
    "<br>\n",
    "![wynik](./images/new_user.png)\n",
    "<br>\n",
    "Pobieranie informacji o użytkownikach:\n",
    "<br>\n",
    "![wynik](./images/all_users.png)\n",
    "<br>\n",
    "Onowienie informacji o użytkowniku:\n",
    "<br>\n",
    "![wynik](./images/update_user.png)\n",
    "<br>\n",
    "Pobieranie informacji o użytkownikach (widzimy, że użytkownik został zaktualizowany):\n",
    "<br>\n",
    "![wynik](./images/all_users_updated.png)\n",
    "Usunięcie użytkownika:\n",
    "<br>\n",
    "![wynik](./images/delete_user.png)\n",
    "<br>\n",
    "Pobieranie informacji o użytkownikach (widzimy, że użytkownik został usunięty):\n",
    "<br>\n",
    "![wynik](./images/empty_users.png)"
   ]
  },
  {
   "cell_type": "markdown",
   "metadata": {},
   "source": [
    "## Wnioski:\n",
    "W trakcie wykonywania ćwiczenia zapoznałem się z zasadami budowania aplikacji sieciowych w języku Python, z wykorzystaniem HTML i REST. Poznałem biblioteki Jinja 2, Flask, FastAPI, requests.\n",
    "\n",
    "Tworzenie aplikacji z GUI i korzystanie z biblioteki requests do demonstracji obsługi API było niezwykle ciekawe. Nigdy wcześniej nie było mi tak łatwo tworzyć API, jak przy użyciu FastAPI! 👁👁\n",
    "\n",
    "Więc to było dobrze ćwiczenie i dało mi nowych informacji dla tworzenia biznesu"
   ]
  }
 ],
 "metadata": {
  "kernelspec": {
   "display_name": ".venv",
   "language": "python",
   "name": "python3"
  },
  "language_info": {
   "name": "python",
   "version": "3.11.3"
  }
 },
 "nbformat": 4,
 "nbformat_minor": 2
}
