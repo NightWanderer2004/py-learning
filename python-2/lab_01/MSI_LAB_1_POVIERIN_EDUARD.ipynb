{
 "cells": [
  {
   "cell_type": "markdown",
   "metadata": {},
   "source": [
    "## 1. Programowanie funkcyjne"
   ]
  },
  {
   "cell_type": "code",
   "execution_count": 5,
   "metadata": {},
   "outputs": [
    {
     "name": "stdout",
     "output_type": "stream",
     "text": [
      "[4, 16, 36, 64, 100]\n"
     ]
    }
   ],
   "source": [
    "# 1.1\n",
    "square = lambda x: x * x\n",
    "x = [2, 4, 6, 8, 10]\n",
    "print(list(map(square, x))) \n",
    "\n",
    "# Ten program wypisuje kwadraty liczb z listy x używając funkcji map i lambda"
   ]
  },
  {
   "cell_type": "code",
   "execution_count": 3,
   "metadata": {},
   "outputs": [
    {
     "name": "stdout",
     "output_type": "stream",
     "text": [
      "[144, 441, 16, 144, 121]\n"
     ]
    }
   ],
   "source": [
    "# 1.2\n",
    "x = [12, 21, 4, 12, 11]\n",
    "def square(num):\n",
    "    return num*num\n",
    "\n",
    "print(list(map(square, x)))\n",
    "\n",
    "# Ten program wypisuje kwadraty liczb z listy x używając pętli for i funkcji square"
   ]
  },
  {
   "cell_type": "code",
   "execution_count": 8,
   "metadata": {},
   "outputs": [
    {
     "name": "stdout",
     "output_type": "stream",
     "text": [
      "[8, 64, 216, 512, 1000]\n"
     ]
    }
   ],
   "source": [
    "# 1.3\n",
    "x = [2, 4, 6, 8, 10]\n",
    "print(list(map(lambda num: num * num * num, x)))\n",
    "\n",
    "# Ten program wypisuje sześciany liczb z listy x używając funkcji map i lambda"
   ]
  },
  {
   "cell_type": "code",
   "execution_count": 12,
   "metadata": {},
   "outputs": [
    {
     "name": "stdout",
     "output_type": "stream",
     "text": [
      "384\n"
     ]
    }
   ],
   "source": [
    "# 1.4\n",
    "product = 1\n",
    "x = [2, 4, 6, 8]\n",
    "for num in x:\n",
    "    product = product * num\n",
    "\n",
    "print(product)\n",
    "\n",
    "# Ten program mnoży wszystkie liczby z listy x używając pętli for"
   ]
  },
  {
   "cell_type": "code",
   "execution_count": 15,
   "metadata": {},
   "outputs": [
    {
     "name": "stdout",
     "output_type": "stream",
     "text": [
      "384\n"
     ]
    }
   ],
   "source": [
    "# 1.5\n",
    "from functools import reduce\n",
    "\n",
    "product = reduce((lambda x, y: x * y), [2, 4, 6, 8])\n",
    "print(product)\n",
    "\n",
    "# Ten program mnoży wszystkie liczby z listy x używając funkcji reduce i lambda z modułu functools"
   ]
  },
  {
   "cell_type": "code",
   "execution_count": 22,
   "metadata": {},
   "outputs": [
    {
     "name": "stdout",
     "output_type": "stream",
     "text": [
      "6\n"
     ]
    }
   ],
   "source": [
    "# 1.6\n",
    "from functools import reduce\n",
    "\n",
    "my_list = [ 1, 3, 5, 6, 2 ]\n",
    "output = reduce(lambda a, b : a if a > b else b, my_list)\n",
    "print(output)\n",
    "\n",
    "# Ten program znajduje największą liczbę z listy x używając funkcji reduce i lambda z modułu functools"
   ]
  },
  {
   "cell_type": "code",
   "execution_count": 18,
   "metadata": {},
   "outputs": [
    {
     "name": "stdout",
     "output_type": "stream",
     "text": [
      "[-5, -4, -3, -2, -1]\n"
     ]
    }
   ],
   "source": [
    "# 1.7\n",
    "x = range(-5, 5)\n",
    "new_list = []\n",
    "\n",
    "for num in x:\n",
    "    if num < 0:\n",
    "        new_list.append(num)\n",
    "        \n",
    "print(new_list)\n",
    "\n",
    "# Ten program wypisuje liczby mniejsze od zera z listy x używając pętli for"
   ]
  },
  {
   "cell_type": "code",
   "execution_count": 36,
   "metadata": {},
   "outputs": [
    {
     "ename": "TypeError",
     "evalue": "'list' object is not callable",
     "output_type": "error",
     "traceback": [
      "\u001b[0;31m---------------------------------------------------------------------------\u001b[0m",
      "\u001b[0;31mTypeError\u001b[0m                                 Traceback (most recent call last)",
      "\u001b[1;32m/Users/night2004/Code/py-learning/python-2/lab_01/lab_01.ipynb Cell 9\u001b[0m line \u001b[0;36m3\n\u001b[1;32m      <a href='vscode-notebook-cell:/Users/night2004/Code/py-learning/python-2/lab_01/lab_01.ipynb#X13sZmlsZQ%3D%3D?line=0'>1</a>\u001b[0m \u001b[39m# 1.8\u001b[39;00m\n\u001b[1;32m      <a href='vscode-notebook-cell:/Users/night2004/Code/py-learning/python-2/lab_01/lab_01.ipynb#X13sZmlsZQ%3D%3D?line=1'>2</a>\u001b[0m x \u001b[39m=\u001b[39m \u001b[39mrange\u001b[39m(\u001b[39m-\u001b[39m\u001b[39m5\u001b[39m, \u001b[39m5\u001b[39m)\n\u001b[0;32m----> <a href='vscode-notebook-cell:/Users/night2004/Code/py-learning/python-2/lab_01/lab_01.ipynb#X13sZmlsZQ%3D%3D?line=2'>3</a>\u001b[0m all_less_than_zero \u001b[39m=\u001b[39m \u001b[39mlist\u001b[39;49m(\u001b[39mfilter\u001b[39;49m(\u001b[39mlambda\u001b[39;49;00m num: num \u001b[39m<\u001b[39;49m \u001b[39m0\u001b[39;49m, x))\n\u001b[1;32m      <a href='vscode-notebook-cell:/Users/night2004/Code/py-learning/python-2/lab_01/lab_01.ipynb#X13sZmlsZQ%3D%3D?line=3'>4</a>\u001b[0m \u001b[39mprint\u001b[39m(all_less_than_zero)\n",
      "\u001b[0;31mTypeError\u001b[0m: 'list' object is not callable"
     ]
    }
   ],
   "source": [
    "# 1.8\n",
    "x = range(-5, 5)\n",
    "all_less_than_zero = list(filter(lambda num: num < 0, x))\n",
    "print(all_less_than_zero)\n",
    "\n",
    "# Ten program wypisuje liczby mniejsze od zera z listy x używając funkcji filter i lambda"
   ]
  },
  {
   "cell_type": "code",
   "execution_count": 42,
   "metadata": {},
   "outputs": [
    {
     "name": "stdout",
     "output_type": "stream",
     "text": [
      "('Jan', 'Joanna') ('Karol', 'Krystyna') ('Michał', 'Monika')\n"
     ]
    }
   ],
   "source": [
    "# 1.9\n",
    "a = (\"Jan\", \"Karol\", \"Michał\")\n",
    "b = (\"Joanna\", \"Krystyna\", \"Monika\", \"Wiktoria\")\n",
    "x = zip(a, b)\n",
    "print(*x)\n",
    "\n",
    "# Ten program łączy dwie listy a i b używając funkcji zip"
   ]
  },
  {
   "cell_type": "code",
   "execution_count": 49,
   "metadata": {},
   "outputs": [
    {
     "name": "stdout",
     "output_type": "stream",
     "text": [
      "60\n"
     ]
    },
    {
     "data": {
      "text/plain": [
       "60"
      ]
     },
     "execution_count": 49,
     "metadata": {},
     "output_type": "execute_result"
    }
   ],
   "source": [
    "# 1.10\n",
    "import functools\n",
    "import operator\n",
    "\n",
    "print(functools.reduce(operator.add, [10, 20, 30], 0))\n",
    "sum([10, 20, 30])\n",
    "\n",
    "# Ten program sumuje wszystkie liczby z listy x używając funkcji reduce i operatora add z modułu functools"
   ]
  },
  {
   "cell_type": "code",
   "execution_count": 53,
   "metadata": {},
   "outputs": [
    {
     "name": "stdout",
     "output_type": "stream",
     "text": [
      "6\n"
     ]
    }
   ],
   "source": [
    "# 1.11\n",
    "import functools\n",
    "\n",
    "product = functools.reduce(lambda x, y: x * y, [1, 2, 3])\n",
    "print(product)\n",
    "\n",
    "# Ten program mnoży wszystkie liczby z listy x używając funkcji reduce i lambda z modułu functools"
   ]
  },
  {
   "cell_type": "code",
   "execution_count": 54,
   "metadata": {},
   "outputs": [
    {
     "name": "stdout",
     "output_type": "stream",
     "text": [
      "6\n"
     ]
    }
   ],
   "source": [
    "# 1.12 (To samo co 1.11)\n",
    "product = functools.reduce(operator.mul, [1, 2, 3], 1)\n",
    "print(product)\n",
    "\n",
    "# Ten program mnoży wszystkie liczby z listy x używając funkcji reduce i operatora mul z modułu functools"
   ]
  },
  {
   "cell_type": "markdown",
   "metadata": {},
   "source": [
    "## 2. List comprehension"
   ]
  },
  {
   "cell_type": "code",
   "execution_count": 55,
   "metadata": {},
   "outputs": [
    {
     "name": "stdout",
     "output_type": "stream",
     "text": [
      "[1, 4, 9, 16]\n"
     ]
    }
   ],
   "source": [
    "# 2.1\n",
    "print([x * x for x in [1, 2, 3, 4]])\n",
    "\n",
    "# Ten program wypisuje kwadraty liczb z listy x używając list comprehension"
   ]
  },
  {
   "cell_type": "code",
   "execution_count": 58,
   "metadata": {},
   "outputs": [
    {
     "name": "stdout",
     "output_type": "stream",
     "text": [
      "[-5, -4, -3, -2, -1]\n"
     ]
    }
   ],
   "source": [
    "# 2.2\n",
    "# x = range(-5, 5)\n",
    "# all_less_than_zero = list(filter(lambda num: num < 0, x))\n",
    "# print(all_less_than_zero)\n",
    "\n",
    "x = range(-5, 5)\n",
    "all_less_than_zero = [num for num in x if num < 0]\n",
    "print(all_less_than_zero)\n",
    "\n",
    "# Ten program wypisuje liczby mniejsze od zera z listy x używając list comprehension"
   ]
  },
  {
   "cell_type": "code",
   "execution_count": 62,
   "metadata": {},
   "outputs": [
    {
     "name": "stdout",
     "output_type": "stream",
     "text": [
      "0 0\n",
      "0 1\n",
      "0 2\n",
      "0 3\n",
      "0 4\n",
      "2 0\n",
      "2 1\n",
      "2 2\n",
      "2 3\n",
      "2 4\n",
      "4 0\n",
      "4 1\n",
      "4 2\n",
      "4 3\n",
      "4 4\n"
     ]
    },
    {
     "data": {
      "text/plain": [
       "<matplotlib.image.AxesImage at 0x10e04d190>"
      ]
     },
     "execution_count": 62,
     "metadata": {},
     "output_type": "execute_result"
    },
    {
     "data": {
      "image/png": "[encoded data removed]",
      "text/plain": [
       "<Figure size 640x480 with 1 Axes>"
      ]
     },
     "metadata": {},
     "output_type": "display_data"
    }
   ],
   "source": [
    "# 2.3\n",
    "from pylab import *\n",
    "\n",
    "a = zeros((5,5))\n",
    "a[::2,:] = 1\n",
    "b = zeros(a.shape)\n",
    "\n",
    "for (y, x) in [(y,x) for y in range(a.shape[0]) for x in\n",
    "    range(a.shape[1]) if a[y, x] > 0.5]:\n",
    "        print(y,x)\n",
    "        b[y, x] = a[y, x]\n",
    "        \n",
    "imshow(b,interpolation='none',cmap=cm.gray)\n",
    "\n",
    "# Ten program wyświetla macierz 5x5 z jedynkami na przekątnej używając list comprehension i również rysuje czarno-białe zdjęcie"
   ]
  },
  {
   "cell_type": "code",
   "execution_count": 63,
   "metadata": {},
   "outputs": [
    {
     "name": "stdout",
     "output_type": "stream",
     "text": [
      "[[1, 4], [1, 4], [2, 5], [2, 5], [3, 6], [3, 6], [4, 8], [4, 8]]\n"
     ]
    }
   ],
   "source": [
    "# 2.4\n",
    "transposed = []\n",
    "matrix = [[1, 2, 3, 4], [4, 5, 6, 8]]\n",
    "for i in range(len(matrix[0])):\n",
    "    transposed_row = []\n",
    "    \n",
    "    for row in matrix:\n",
    "        transposed_row.append(row[i])\n",
    "        transposed.append(transposed_row)\n",
    "\n",
    "print(transposed)\n",
    "\n",
    "# Ten program transponuje macierz używając pętli for"
   ]
  },
  {
   "cell_type": "code",
   "execution_count": 64,
   "metadata": {},
   "outputs": [
    {
     "name": "stdout",
     "output_type": "stream",
     "text": [
      "[[1, 3, 5, 7], [2, 4, 6, 8]]\n"
     ]
    }
   ],
   "source": [
    "# 2.5\n",
    "matrix = [[1, 2], [3, 4], [5, 6], [7, 8]]\n",
    "transpose = [[row[i] for row in matrix] for i in range(2)]\n",
    "print(transpose)\n",
    "\n",
    "# Ten program transponuje macierz używając list comprehension"
   ]
  },
  {
   "cell_type": "code",
   "execution_count": 65,
   "metadata": {},
   "outputs": [
    {
     "ename": "TypeError",
     "evalue": "'list' object is not callable",
     "output_type": "error",
     "traceback": [
      "\u001b[0;31m---------------------------------------------------------------------------\u001b[0m",
      "\u001b[0;31mTypeError\u001b[0m                                 Traceback (most recent call last)",
      "\u001b[1;32m/Users/night2004/Code/py-learning/python-2/lab_01/lab_01.ipynb Cell 20\u001b[0m line \u001b[0;36m4\n\u001b[1;32m      <a href='vscode-notebook-cell:/Users/night2004/Code/py-learning/python-2/lab_01/lab_01.ipynb#X31sZmlsZQ%3D%3D?line=0'>1</a>\u001b[0m \u001b[39m# 2.6\u001b[39;00m\n\u001b[1;32m      <a href='vscode-notebook-cell:/Users/night2004/Code/py-learning/python-2/lab_01/lab_01.ipynb#X31sZmlsZQ%3D%3D?line=1'>2</a>\u001b[0m x \u001b[39m=\u001b[39m \u001b[39mrange\u001b[39m(\u001b[39m-\u001b[39m\u001b[39m5\u001b[39m, \u001b[39m5\u001b[39m)\n\u001b[1;32m      <a href='vscode-notebook-cell:/Users/night2004/Code/py-learning/python-2/lab_01/lab_01.ipynb#X31sZmlsZQ%3D%3D?line=2'>3</a>\u001b[0m all_less_than_zero \u001b[39m=\u001b[39m \u001b[39mlist\u001b[39m(\u001b[39mmap\u001b[39m(\u001b[39mlambda\u001b[39;00m num: num \u001b[39m*\u001b[39m num,\n\u001b[0;32m----> <a href='vscode-notebook-cell:/Users/night2004/Code/py-learning/python-2/lab_01/lab_01.ipynb#X31sZmlsZQ%3D%3D?line=3'>4</a>\u001b[0m                               \u001b[39mlist\u001b[39;49m(\u001b[39mfilter\u001b[39;49m(\u001b[39mlambda\u001b[39;49;00m num: num \u001b[39m<\u001b[39;49m \u001b[39m0\u001b[39;49m, x))))\n",
      "\u001b[0;31mTypeError\u001b[0m: 'list' object is not callable"
     ]
    }
   ],
   "source": [
    "# 2.6\n",
    "x = range(-5, 5)\n",
    "all_less_than_zero = list(map(lambda num: num * num,\n",
    "                              list(filter(lambda num: num < 0, x))))\n",
    "\n",
    "# Ten program wypisuje kwadraty liczb mniejszych od zera z listy x używając funkcji map, filter i lambda"
   ]
  },
  {
   "cell_type": "code",
   "execution_count": 66,
   "metadata": {},
   "outputs": [
    {
     "name": "stdout",
     "output_type": "stream",
     "text": [
      "[25, 16, 9, 4, 1]\n"
     ]
    }
   ],
   "source": [
    "# 2.7\n",
    "x = range(-5, 5)\n",
    "all_less_than_zero = [num * num for num in x if num < 0]\n",
    "print(all_less_than_zero)\n",
    "\n",
    "# Ten program wypisuje kwadraty liczb mniejszych od zera z listy x używając list comprehension"
   ]
  },
  {
   "cell_type": "code",
   "execution_count": 67,
   "metadata": {},
   "outputs": [
    {
     "data": {
      "text/plain": [
       "['orange', 'kiwi']"
      ]
     },
     "execution_count": 67,
     "metadata": {},
     "output_type": "execute_result"
    }
   ],
   "source": [
    "# 2.8\n",
    "fruits = [\"apple\", \"banana\", \"cherry\", \"kiwi\", \"mango\"]\n",
    "[(x if x != \"apple\" else \"orange\") for x in fruits if 'a' in x and\n",
    " 'e' in x or 'k' in x]\n",
    "\n",
    "# Ten program wypisuje owoce z listy fruits, które zawierają literę 'a' lub 'e' lub 'k' i jeśli owoce zawierają literę 'a' lub 'e' to zamienia je na 'orange'"
   ]
  },
  {
   "cell_type": "code",
   "execution_count": 79,
   "metadata": {},
   "outputs": [
    {
     "data": {
      "text/plain": [
       "['Mario', 'Zelda', 'Pokemon', 'Final fantasy', 'Dragon quest']"
      ]
     },
     "execution_count": 79,
     "metadata": {},
     "output_type": "execute_result"
    }
   ],
   "source": [
    "# 2.9\n",
    "games = [\"mario\", \"zelda\", \"pokemon\", \"final fantasy\", \"dragon quest\"]\n",
    "[j.capitalize() for j in games]\n",
    "\n",
    "# Ten program wypisuje gry z listy games z pierwszą dużą literą"
   ]
  },
  {
   "cell_type": "code",
   "execution_count": 74,
   "metadata": {},
   "outputs": [
    {
     "data": {
      "text/plain": [
       "{91: 'INDIA',\n",
       " 92: 'PAKISTAN',\n",
       " 880: 'BANGLADESH',\n",
       " 234: 'NIGERIA',\n",
       " 380: 'UKRAINE',\n",
       " 81: 'JAPAN'}"
      ]
     },
     "execution_count": 74,
     "metadata": {},
     "output_type": "execute_result"
    }
   ],
   "source": [
    "# 2.10\n",
    "DIAL_CODES = [(86, 'China'),\n",
    "              (91, 'India'),\n",
    "              (1, 'United States'),\n",
    "              (62, 'Indonesia'),\n",
    "              (55, 'Brazil'),\n",
    "              (92, 'Pakistan'),\n",
    "              (880, 'Bangladesh'),\n",
    "              (234, 'Nigeria'),\n",
    "              (380, 'Ukraine'),\n",
    "              (81, 'Japan'),\n",
    "              ]\n",
    "\n",
    "country_code = {country: code for code, country in DIAL_CODES}\n",
    "country_code\n",
    "{code: country.upper() for country, code in country_code.items()\n",
    " if code > 90 or code == 81}\n",
    "\n",
    "# Ten program wypisuje kraje z listy DIAL_CODES, których kod jest większy od 90 lub równy 81"
   ]
  },
  {
   "cell_type": "code",
   "execution_count": 78,
   "metadata": {},
   "outputs": [
    {
     "name": "stdout",
     "output_type": "stream",
     "text": [
      "{1: 1, 2: 4}\n"
     ]
    }
   ],
   "source": [
    "# 2.11\n",
    "square_dict = dict()\n",
    "# for num in range(1, 3):\n",
    "#     square_dict[num] = num * num\n",
    "# print(square_dict)\n",
    "\n",
    "square_dict = {num: num*num for num in range(1, 3)}\n",
    "print(square_dict)\n",
    "\n",
    "# Ten program wypisuje kwadraty liczb z listy x używając list comprehension"
   ]
  }
 ],
 "metadata": {
  "kernelspec": {
   "display_name": "Python 3",
   "language": "python",
   "name": "python3"
  },
  "language_info": {
   "codemirror_mode": {
    "name": "ipython",
    "version": 3
   },
   "file_extension": ".py",
   "mimetype": "text/x-python",
   "name": "python",
   "nbconvert_exporter": "python",
   "pygments_lexer": "ipython3",
   "version": "3.11.3"
  }
 },
 "nbformat": 4,
 "nbformat_minor": 2
}
