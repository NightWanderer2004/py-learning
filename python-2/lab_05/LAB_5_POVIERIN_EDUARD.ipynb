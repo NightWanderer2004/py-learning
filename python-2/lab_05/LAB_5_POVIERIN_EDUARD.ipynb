{
 "cells": [
  {
   "cell_type": "markdown",
   "metadata": {},
   "source": [
    "### Przedmiot: Python 2\n",
    "### Temat: \"Programowanie sieciowe\"\n",
    "### Imię nazwisko: Eduard Povierin\n",
    "### Grupa: 2TD12A"
   ]
  },
  {
   "cell_type": "markdown",
   "metadata": {},
   "source": [
    "---"
   ]
  },
  {
   "cell_type": "markdown",
   "metadata": {},
   "source": [
    "## Cel:\n",
    "Celem ćwiczenia jest zapoznanie z funkcjami sieciowymi standardowych bibliotek Pythona oraz\n",
    "bibliotek requests oraz websockets"
   ]
  },
  {
   "cell_type": "markdown",
   "metadata": {},
   "source": [
    "### Zadanie 1\n",
    "Utworzyć serwer i klienta przy wykorzystaniu biblioteki socket i protokołu UDP."
   ]
  },
  {
   "cell_type": "code",
   "execution_count": null,
   "metadata": {},
   "outputs": [],
   "source": [
    "# Server\n",
    "import socket\n",
    "\n",
    "host = \"localhost\"\n",
    "port = 1234\n",
    "\n",
    "server = socket.socket(socket.AF_INET, socket.SOCK_DGRAM)\n",
    "server.bind((host, port))\n",
    "\n",
    "while True:\n",
    "    data, address = server.recvfrom(1024)\n",
    "    server.sendto(data, address)"
   ]
  },
  {
   "cell_type": "code",
   "execution_count": null,
   "metadata": {},
   "outputs": [],
   "source": [
    "# Client\n",
    "import socket\n",
    "\n",
    "host = \"localhost\"\n",
    "port = 1234\n",
    "\n",
    "client = socket.socket(socket.AF_INET, socket.SOCK_DGRAM)\n",
    "client.sendto(\"Hey, from client!\".encode(), (host, port))\n",
    "\n",
    "data, address = client.recvfrom(1024)\n",
    "print(data.decode())"
   ]
  },
  {
   "cell_type": "markdown",
   "metadata": {},
   "source": [
    "### Zadanie 2\n",
    "Utworzyć serwer i klienta przy wykorzystaniu biblioteki socket i protokołu TCP."
   ]
  },
  {
   "cell_type": "code",
   "execution_count": null,
   "metadata": {},
   "outputs": [],
   "source": [
    "# Server\n",
    "import socket\n",
    "\n",
    "host = \"localhost\"\n",
    "port = 1234\n",
    "\n",
    "server = socket.socket(socket.AF_INET, socket.SOCK_STREAM)\n",
    "server.bind((host, port))\n",
    "server.listen(1)\n",
    "\n",
    "while True:\n",
    "    connection, address = server.accept()\n",
    "    data = connection.recv(1024)\n",
    "    connection.sendall(data)\n",
    "    connection.close()"
   ]
  },
  {
   "cell_type": "code",
   "execution_count": null,
   "metadata": {},
   "outputs": [],
   "source": [
    "# Client\n",
    "import socket\n",
    "\n",
    "host = \"localhost\"\n",
    "port = 1234\n",
    "\n",
    "client = socket.socket(socket.AF_INET, socket.SOCK_STREAM)\n",
    "client.connect((host, port))\n",
    "\n",
    "client.sendall(\"Hehehe...\".encode())\n",
    "data = client.recv(1024)\n",
    "print(data.decode())\n",
    "\n",
    "client.close()"
   ]
  },
  {
   "cell_type": "markdown",
   "metadata": {},
   "source": [
    "### Róznice między UDP i TCP\n",
    "\n",
    "- Ustanowienie połączenia: Kod używa metody ```listen()``` do nasłuchiwania przychodzących połączeń i metody ```accept()``` do akceptowania przychodzącego połączenia. Oznacza to, że serwer oczekuje, aż klient ustanowi połączenie, zanim zacznie przyjmować i przetwarzać dane. W poprzednim kodzie z użyciem UDP serwer nie oczekuje na ustanowienie połączenia i może przyjmować dane niezależnie od obecności klienta.\n",
    "\n",
    "- Wiarygodność dostawy: Kod używa metody ```sendall()``` do wysyłania danych, która gwarantuje, że wszystkie dane zostaną wysłane, oraz metody ```recv()``` do odbierania danych. W poprzednim kodzie z użyciem UDP dane są wysyłane za pomocą metody ```sendto()```, a serwer odbiera dane za pomocą metody ```recvfrom()```. W protokole UDP nie ma gwarancji, że wszystkie dane zostaną dostarczone, a kolejność ich dostarczania nie jest zagwarantowana.\n",
    "\n",
    "- Zamykanie połączenia: Kod używa metody ```close()``` do zamykania połączenia po przetworzeniu danych. W poprzednim kodzie z użyciem UDP połączenie nie jest zamykane explicite, ponieważ protokół UDP nie wymaga ustanawiania połączenia."
   ]
  },
  {
   "cell_type": "markdown",
   "metadata": {},
   "source": [
    "### Zadanie 3\n",
    "Utworzyć serwer i klienta przy wykorzystaniu biblioteki websocket, przetestować działanie z testem online"
   ]
  },
  {
   "cell_type": "code",
   "execution_count": null,
   "metadata": {},
   "outputs": [],
   "source": [
    "# Server\n",
    "import websockets\n",
    "import asyncio\n",
    "\n",
    "async def main():\n",
    "    server = await websockets.serve(handler, \"localhost\", 8080)\n",
    "    await server.wait_closed()\n",
    "\n",
    "async def handler(websocket, path):\n",
    "    await websocket.send(\"Let's STUDY!!!!\")\n",
    "\n",
    "    data = await websocket.recv()\n",
    "    print(data)\n",
    "\n",
    "\n",
    "asyncio.run(main())"
   ]
  },
  {
   "cell_type": "code",
   "execution_count": null,
   "metadata": {},
   "outputs": [],
   "source": [
    "# Client \n",
    "import websockets\n",
    "import asyncio\n",
    "\n",
    "async def main():\n",
    "    async with websockets.connect(\"ws://localhost:8080\") as websocket:\n",
    "        await websocket.send(\"Nice idea!\")\n",
    "\n",
    "        data = await websocket.recv()\n",
    "        print(data)\n",
    "\n",
    "\n",
    "asyncio.run(main())"
   ]
  },
  {
   "cell_type": "markdown",
   "metadata": {},
   "source": [
    "### Zadanie 4\n",
    "Pokazać na wybranych stronach działanie modułów biblioteki urllib."
   ]
  },
  {
   "cell_type": "code",
   "execution_count": 2,
   "metadata": {},
   "outputs": [
    {
     "name": "stdout",
     "output_type": "stream",
     "text": [
      "200 <!doctype html><html itemscope=\"\" itemtype=\"http://schema.org/WebPage\" lang=\"pl\"><head><meta content=\"text/html; charset=UTF-8\" http-equiv=\"Content-Type\"><meta content=\"/images/branding/googleg/1x/googleg_standard_color_128dp.png\" itemprop=\"image\"><title>Google</title><script nonce=\"ov8xV1ABHhbS_gPzPEoOuw\">(function(){var _g={kEI:'cvNhZfyxA8Ooxc8PxcGiyA8',kEXPI:'0,1365468,206,4804,2316,383,1129371,1921,1576570,16114,28684,22430,1362,12319,4746,12834,4998,17075,38444,887,1985,2891,3926,213,7615,606,12205,48485,6397,9708,230,20573,4,57411,2216,4437,22595,6642,7596,1,42154,2,39761,5679,1020,31123,4567,6256,23421,1252,59701,8155,23351,873,19633,7,1922,5600,10043,36595,3142,17056,5797,10,243,14183,20206,27337,5403,3030,15816,1804,11491,2315,7205,5397,8585,276,11813,1632,2173,32443,16443,5208500,6942,2,580,132,50,5994203,2803214,3311,141,795,30154,160,2,2,2,2,2,16,23940228,4044106,14298,2374,43887,3,1599,3,503,3,1882,1392060,338513,388821,23031936,11584,1215,8409,2878,336,1259,4426,5799,738,18679,5455,2004,3117,1640,4238,14606,1633,23573,1,2,390,2,665,345,1569,769,27,6,5,13,2,313,5478,4,877,438,664,1768,483,538,381,1068,351,2357,455,2708,332,237,1786,230,49,8158,394,1018,952,60,881,16,1473,1252,961,153,5,45,952,1065,472,504,159,188,1559,257,1,6,3368,91,185,4,853,4,179,314,182,2,683,1085,176,393,3,459,4,1279,733,272,54,64,345,214,3,1077,270,219,466,32,314,1,6,245,435,590,1456,732,2069,1700,5,125,24,184,1323,502,141,1,218,86,287,356,375,49,177,534,182,168,1524,2,1,2,14,105,546,542,237,1034,27,403,463,3,67,360,23,666,317,3,4,2,2,2,54,226,6,495,236,770,159,557,268,1219,634,91,302,128,516,1241,1641,201,7,1,10,255,455,744,12,12,828,922,21761516,218,242,931',kBL:'blGv',kOPI:89978449};(function(){var a;(null==(a=window.google)?0:a.stvsc)?google.kEI=_g.kEI:window.google=_g;}).call(this);})();(function(){google.sn='webhp';google.kHL='pl';})();(function(){\n",
      "var h=this||self;function l(){return void 0!==window.google&&void 0!==window.google.kOPI&&0!==window.google.kOPI?window.google.kOPI:null};var m,n=[];function p(a){for(var b;a&&(!a.getAttribute||!(b=a.getAttribute(\"eid\")));)a=a.parentNode;return b||m}function q(a){for(var b=null;a&&(!a.getAttribute||!(b=a.getAttribute(\"leid\")));)a=a.parentNode;return b}function r(a){/^http:/i.test(a)&&\"https:\"===window.location.protocol&&(google.ml&&google.ml(Error(\"a\"),!1,{src:a,glmm:1}),a=\"\");return a}\n",
      "function t(a,b,c,d,k){var e=\"\";-1===b.search(\"&ei=\")&&(e=\"&ei=\"+p(d),-1===b.search(\"&lei=\")&&(d=q(d))&&(e+=\"&lei=\"+d));d=\"\";var g=-1===b.search(\"&cshid=\")&&\"slh\"!==a,f=[];f.push([\"zx\",Date.now().toString()]);h._cshid&&g&&f.push([\"cshid\",h._cshid]);c=c();null!=c&&f.push([\"opi\",c.toString()]);for(c=0;c<f.length;c++){if(0===c||0<c)d+=\"&\";d+=f[c][0]+\"=\"+f[c][1]}return\"/\"+(k||\"gen_204\")+\"?atyp=i&ct=\"+String(a)+\"&cad=\"+(b+e+d)};m=google.kEI;google.getEI=p;google.getLEI=q;google.ml=function(){return null};google.log=function(a,b,c,d,k,e){e=void 0===e?l:e;c||(c=t(a,b,e,d,k));if(c=r(c)){a=new Image;var g=n.length;n[g]=a;a.onerror=a.onload=a.onabort=function(){delete n[g]};a.src=c}};google.logUrl=function(a,b){b=void 0===b?l:b;return t(\"\",a,b)};}).call(this);(function(){google.y={};google.sy=[];google.x=function(a,b){if(a)var c=a.id;else{do c=Math.random();while(google.y[c])}google.y[c]=[a,b];return!1};google.sx=function(a){google.sy.push(a)};google.lm=[];google.plm=function(a){google.lm.push.apply(google.lm,a)};google.lq=[];google.load=function(a,b,c){google.lq.push([[a],b,c])};google.loadAll=function(a,b){google.lq.push([a,b])};google.bx=!1;google.lx=function(){};var d=[];google.fce=function(a,b,c,e){d.push([a,b,c,e])};google.qce=d;}).call(this);google.f={};(function(){\n",
      "document.documentElement.addEventListener(\"submit\",function(b){var a;if(a=b.target){var c=a.getAttribute(\"data-submitfalse\");a=\"1\"===c||\"q\"===c&&!a.elements.q.value?!0:!1}else a=!1;a&&(b.preventDefault(),b.stopPropagation())},!0);document.documentElement.addEventListener(\"click\",function(b){var a;a:{for(a=b.target;a&&a!==document.documentElement;a=a.parentElement)if(\"A\"===a.tagName){a=\"1\"===a.getAttribute(\"data-nohref\");break a}a=!1}a&&b.preventDefault()},!0);}).call(this);</script><style>#gbar,#guser{font-size:13px;padding-top:1px !important;}#gbar{height:22px}#guser{padding-bottom:7px !important;text-align:right}.gbh,.gbd{border-top:1px solid #c9d7f1;font-size:1px}.gbh{height:0;position:absolute;top:24px;width:100%}@media all{.gb1{height:22px;margin-right:.5em;vertical-align:top}#gbar{float:left}}a.gb1,a.gb4{text-decoration:underline !important}a.gb1,a.gb4{color:#00c !important}.gbi .gb4{color:#dd8e27 !important}.gbf .gb4{color:#900 !important}\n",
      "</style><style>body,td,a,p,.h{font-family:arial,sans-serif}body{margin:0;overflow-y:scroll}#gog{padding:3px 8px 0}td{line-height:.8em}.gac_m td{line-height:17px}form{margin-bottom:20px}.h{color:#1967d2}em{font-weight:bold;font-style:normal}.lst{height:25px;width:496px}.gsfi,.lst{font:18px arial,sans-serif}.gsfs{font:17px arial,sans-serif}.ds{display:inline-box;display:inline-block;margin:3px 0 4px;margin-left:4px}input{font-family:inherit}body{background:#fff;color:#000}a{color:#681da8;text-decoration:none}a:hover,a:active{text-decoration:underline}.fl a{color:#1967d2}a:visited{color:#681da8}.sblc{padding-top:5px}.sblc a{display:block;margin:2px 0;margin-left:13px;font-size:11px}.lsbb{background:#f8f9fa;border:solid 1px;border-color:#dadce0 #70757a #70757a #dadce0;height:30px}.lsbb{display:block}#WqQANb a{display:inline-block;margin:0 12px}.lsb{background:url(/images/nav_logo229.png) 0 -261px repeat-x;color:#000;border:none;cursor:pointer;height:30px;margin:0;outline:0;font:15px arial,sans-serif;vertical-align:top}.lsb:active{background:#dadce0}.lst:focus{outline:none}.Ucigb{width:458px}</style><script nonce=\"ov8xV1ABHhbS_gPzPEoOuw\">(function(){window.google.erd={jsr:1,bv:1906,de:true};\n",
      "var h=this||self;var k,l=null!=(k=h.mei)?k:1,n,p=null!=(n=h.sdo)?n:!0,q=0,r,t=google.erd,v=t.jsr;google.ml=function(a,b,d,m,e){e=void 0===e?2:e;b&&(r=a&&a.message);void 0===d&&(d={});d.cad=\"ple_\"+google.ple+\".aple_\"+google.aple;if(google.dl)return google.dl(a,e,d),null;if(0>v){window.console&&console.error(a,d);if(-2===v)throw a;b=!1}else b=!a||!a.message||\"Error loading script\"===a.message||q>=l&&!m?!1:!0;if(!b)return null;q++;d=d||{};b=encodeURIComponent;var c=\"/gen_204?atyp=i&ei=\"+b(google.kEI);google.kEXPI&&(c+=\"&jexpid=\"+b(google.kEXPI));c+=\"&srcpg=\"+b(google.sn)+\"&jsr=\"+b(t.jsr)+\"&bver=\"+\n",
      "b(t.bv);var f=a.lineNumber;void 0!==f&&(c+=\"&line=\"+f);var g=a.fileName;g&&(0<g.indexOf(\"-extension:/\")&&(e=3),c+=\"&script=\"+b(g),f&&g===window.location.href&&(f=document.documentElement.outerHTML.split(\"\\n\")[f],c+=\"&cad=\"+b(f?f.substring(0,300):\"No script found.\")));google.ple&&1===google.ple&&(e=2);c+=\"&jsel=\"+e;for(var u in d)c+=\"&\",c+=b(u),c+=\"=\",c+=b(d[u]);c=c+\"&emsg=\"+b(a.name+\": \"+a.message);c=c+\"&jsst=\"+b(a.stack||\"N/A\");12288<=c.length&&(c=c.substr(0,12288));a=c;m||google.log(0,\"\",a);return a};window.onerror=function(a,b,d,m,e){r!==a&&(a=e instanceof Error?e:Error(a),void 0===d||\"lineNumber\"in a||(a.lineNumber=d),void 0===b||\"fileName\"in a||(a.fileName=b),google.ml(a,!1,void 0,!1,\"SyntaxError\"===a.name||\"SyntaxError\"===a.message.substring(0,11)||-1!==a.message.indexOf(\"Script error\")?3:0));r=null;p&&q>=l&&(window.onerror=null)};})();</script></head><body bgcolor=\"#fff\"><script nonce=\"ov8xV1ABHhbS_gPzPEoOuw\">(function(){var src='/images/nav_logo229.png';var iesg=false;document.body.onload = function(){window.n && window.n();if (document.images){new Image().src=src;}\n",
      "if (!iesg){document.f&&document.f.q.focus();document.gbqf&&document.gbqf.q.focus();}\n",
      "}\n",
      "})();</script><div id=\"mngb\"><div id=gbar><nobr><b class=gb1>Szukaj</b> <a class=gb1 href=\"https://www.google.com/imghp?hl=pl&tab=wi\">Grafika</a> <a class=gb1 href=\"http://maps.google.pl/maps?hl=pl&tab=wl\">Mapy</a> <a class=gb1 href=\"https://play.google.com/?hl=pl&tab=w8\">Play</a> <a class=gb1 href=\"https://www.youtube.com/?tab=w1\">YouTube</a> <a class=gb1 href=\"https://news.google.com/?tab=wn\">Wiadomo&#347;ci</a> <a class=gb1 href=\"https://mail.google.com/mail/?tab=wm\">Gmail</a> <a class=gb1 href=\"https://drive.google.com/?tab=wo\">Dysk</a> <a class=gb1 style=\"text-decoration:none\" href=\"https://www.google.pl/intl/pl/about/products?tab=wh\"><u>Wi&#281;cej</u> &raquo;</a></nobr></div><div id=guser width=100%><nobr><span id=gbn class=gbi></span><span id=gbf class=gbf></span><span id=gbe></span><a href=\"http://www.google.pl/history/optout?hl=pl\" class=gb4>Historia online</a> | <a  href=\"/preferences?hl=pl\" class=gb4>Ustawienia</a> | <a target=_top id=gb_70 href=\"https://accounts.google.com/ServiceLogin?hl=pl&passive=true&continue=http://www.google.com/&ec=GAZAAQ\" class=gb4>Zaloguj si&#281;</a></nobr></div><div class=gbh style=left:0></div><div class=gbh style=right:0></div></div><center><br clear=\"all\" id=\"lgpd\"><div id=\"lga\"><img alt=\"Google\" height=\"92\" src=\"/images/branding/googlelogo/1x/googlelogo_white_background_color_272x92dp.png\" style=\"padding:28px 0 14px\" width=\"272\" id=\"hplogo\"><br><br></div><form action=\"/search\" name=\"f\"><table cellpadding=\"0\" cellspacing=\"0\"><tr valign=\"top\"><td width=\"25%\">&nbsp;</td><td align=\"center\" nowrap=\"\"><input name=\"ie\" value=\"ISO-8859-1\" type=\"hidden\"><input value=\"pl\" name=\"hl\" type=\"hidden\"><input name=\"source\" type=\"hidden\" value=\"hp\"><input name=\"biw\" type=\"hidden\"><input name=\"bih\" type=\"hidden\"><div class=\"ds\" style=\"height:32px;margin:4px 0\"><div style=\"position:relative;zoom:1\"><input class=\"lst Ucigb\" style=\"margin:0;padding:5px 8px 0 6px;vertical-align:top;color:#000;padding-right:38px\" autocomplete=\"off\" value=\"\" title=\"Szukaj w Google\" maxlength=\"2048\" name=\"q\" size=\"57\"><img src=\"/textinputassistant/tia.png\" style=\"position:absolute;cursor:pointer;right:5px;top:4px;z-index:300\" data-script-url=\"/textinputassistant/13/pl_tia.js\" id=\"tsuid_1\" alt=\"\" height=\"23\" width=\"27\"><script nonce=\"ov8xV1ABHhbS_gPzPEoOuw\">(function(){var id='tsuid_1';document.getElementById(id).onclick = function(){var s = document.createElement('script');s.src = this.getAttribute('data-script-url');(document.getElementById('xjsc')||document.body).appendChild(s);};})();</script></div></div><br style=\"line-height:0\"><span class=\"ds\"><span class=\"lsbb\"><input class=\"lsb\" value=\"Szukaj w Google\" name=\"btnG\" type=\"submit\"></span></span><span class=\"ds\"><span class=\"lsbb\"><input class=\"lsb\" id=\"tsuid_2\" value=\"Szcz&#281;&#347;liwy traf\" name=\"btnI\" type=\"submit\"><script nonce=\"ov8xV1ABHhbS_gPzPEoOuw\">(function(){var id='tsuid_2';document.getElementById(id).onclick = function(){if (this.form.q.value){this.checked = 1;if (this.form.iflsig)this.form.iflsig.disabled = false;}\n",
      "else top.location='/doodles/';};})();</script><input value=\"AO6bgOgAAAAAZWIBgk7CvXTChQOWsvyxVvk6WEPPFWjk\" name=\"iflsig\" type=\"hidden\"></span></span></td><td class=\"fl sblc\" align=\"left\" nowrap=\"\" width=\"25%\"><a href=\"/advanced_search?hl=pl&amp;authuser=0\">Szukanie zaawansowane</a></td></tr></table><input id=\"gbv\" name=\"gbv\" type=\"hidden\" value=\"1\"><script nonce=\"ov8xV1ABHhbS_gPzPEoOuw\">(function(){var a,b=\"1\";if(document&&document.getElementById)if(\"undefined\"!=typeof XMLHttpRequest)b=\"2\";else if(\"undefined\"!=typeof ActiveXObject){var c,d,e=[\"MSXML2.XMLHTTP.6.0\",\"MSXML2.XMLHTTP.3.0\",\"MSXML2.XMLHTTP\",\"Microsoft.XMLHTTP\"];for(c=0;d=e[c++];)try{new ActiveXObject(d),b=\"2\"}catch(h){}}a=b;if(\"2\"==a&&-1==location.search.indexOf(\"&gbv=2\")){var f=google.gbvu,g=document.getElementById(\"gbv\");g&&(g.value=a);f&&window.setTimeout(function(){location.href=f},0)};}).call(this);</script></form><div id=\"gac_scont\"></div><div style=\"font-size:83%;min-height:3.5em\"><br></div><span id=\"footer\"><div style=\"font-size:10pt\"><div style=\"margin:19px auto;text-align:center\" id=\"WqQANb\"><a href=\"/intl/pl/ads/\">Reklamuj si&#281;</a><a href=\"http://www.google.pl/intl/pl/services/\">Rozwi&#261;zania dla firm</a><a href=\"/intl/pl/about.html\">Wszystko o Google</a><a href=\"http://www.google.com/setprefdomain?prefdom=PL&amp;prev=http://www.google.pl/&amp;sig=656344f2K_J0F01ooJo1q22D7PbvbbDYM4KC0%3D\">Google.pl</a></div></div><p style=\"font-size:8pt;color:#70757a\">&copy; 2023 - <a href=\"/intl/pl/policies/privacy/\">Prywatno&#347;&#263;</a> - <a href=\"/intl/pl/policies/terms/\">Warunki</a></p></span></center><script nonce=\"ov8xV1ABHhbS_gPzPEoOuw\">(function(){window.google.cdo={height:757,width:1440};(function(){var a=window.innerWidth,b=window.innerHeight;if(!a||!b){var c=window.document,d=\"CSS1Compat\"==c.compatMode?c.documentElement:c.body;a=d.clientWidth;b=d.clientHeight}\n",
      "if(a&&b&&(a!=google.cdo.width||b!=google.cdo.height)){var e=google,f=e.log,g=\"/client_204?&atyp=i&biw=\"+a+\"&bih=\"+b+\"&ei=\"+google.kEI,h=\"\",k=[],l=void 0!==window.google&&void 0!==window.google.kOPI&&0!==window.google.kOPI?window.google.kOPI:null;null!=l&&k.push([\"opi\",l.toString()]);for(var m=0;m<k.length;m++){if(0===m||0<m)h+=\"&\";h+=k[m][0]+\"=\"+k[m][1]}f.call(e,\"\",\"\",g+h)};}).call(this);})();</script> <script nonce=\"ov8xV1ABHhbS_gPzPEoOuw\">(function(){google.xjs={ck:'xjs.hp.O8opZkyiVDo.L.X.O',combam:'AAAAAAAAAAAAAAAAAAAAAAAAQAAAAAAAwAEABCAAAAAAAAAAAIAAgOgIAIAFALg',cs:'ACT90oFmorZLt4PJNp9-BPgVHsO-Ksi7zQ',cssam:'AAAAAAAAAAAAAAAAAAAAAAAAAAAAAAAAAAAABCAAAAAAAAAAAIA',cssopt:false,csss:'ACT90oECcw_hLLhonmHIO0w4T8ag3PGqig',excm:[],sepam:false,sepcss:false};})();</script>     <script nonce=\"ov8xV1ABHhbS_gPzPEoOuw\">(function(){var u='/xjs/_/js/k\\x3dxjs.hp.en.3B5pF07_G5I.O/am\\x3dAAAAAAAAAAAAAAAAAAAAAAAAQAAAAAAAwAEABCAAAAAAAAAAAIAAgOgIAIAFALg/d\\x3d1/ed\\x3d1/rs\\x3dACT90oEAzqDF2NPKvFsJ8meaA1v6x46wEg/m\\x3dsb_he,d,cEt90b,SNUn3,qddgKe,sTsDMc,dtl0hd,eHDfl';var amd=0;\n",
      "var e=this||self,f=function(a){return a};var g;var h=function(a){this.g=a};h.prototype.toString=function(){return this.g+\"\"};var k={};var l=function(){var a=document;var b=\"SCRIPT\";\"application/xhtml+xml\"===a.contentType&&(b=b.toLowerCase());return a.createElement(b)};\n",
      "function m(a,b){a.src=b instanceof h&&b.constructor===h?b.g:\"type_error:TrustedResourceUrl\";var c,d;(c=(b=null==(d=(c=(a.ownerDocument&&a.ownerDocument.defaultView||window).document).querySelector)?void 0:d.call(c,\"script[nonce]\"))?b.nonce||b.getAttribute(\"nonce\")||\"\":\"\")&&a.setAttribute(\"nonce\",c)};function n(a){a=null===a?\"null\":void 0===a?\"undefined\":a;if(void 0===g){var b=null;var c=e.trustedTypes;if(c&&c.createPolicy){try{b=c.createPolicy(\"goog#html\",{createHTML:f,createScript:f,createScriptURL:f})}catch(d){e.console&&e.console.error(d.message)}g=b}else g=b}a=(b=g)?b.createScriptURL(a):a;return new h(a,k)};void 0===google.ps&&(google.ps=[]);function p(){var a=u,b=function(){};google.lx=google.stvsc?b:function(){q(a);google.lx=b};google.bx||google.lx()}function r(a,b){b&&m(a,n(b));var c=a.onload;a.onload=function(d){c&&c(d);google.ps=google.ps.filter(function(t){return a!==t})};google.ps.push(a);document.body.appendChild(a)}google.as=r;function q(a){google.timers&&google.timers.load&&google.tick&&google.tick(\"load\",\"xjsls\");var b=l();b.onerror=function(){google.ple=1};b.onload=function(){google.ple=0};google.xjsus=void 0;r(b,a);google.aple=-1;google.psa=!0};google.xjsu=u;e._F_jsUrl=u;setTimeout(function(){0<amd?google.caft(function(){return p()},amd):p()},0);})();window._ = window._ || {};window._DumpException = _._DumpException = function(e){throw e;};window._s = window._s || {};_s._DumpException = _._DumpException;window._qs = window._qs || {};_qs._DumpException = _._DumpException;(function(){var t=[1,0,0,0,0,134217729,6029312,524544,0,1024,243793928,23068674,47104];window._F_toggles = window._xjs_toggles = t;})();function _F_installCss(c){}\n",
      "(function(){google.jl={blt:'none',chnk:0,dw:false,dwu:true,emtn:0,end:0,ico:false,ikb:0,ine:false,injs:'none',injt:0,injth:0,injv2:false,lls:'default',pdt:0,rep:0,snet:true,strt:0,ubm:false,uwp:true};})();(function(){var pmc='{\\x22d\\x22:{},\\x22sb_he\\x22:{\\x22agen\\x22:false,\\x22cgen\\x22:false,\\x22client\\x22:\\x22heirloom-hp\\x22,\\x22dh\\x22:true,\\x22ds\\x22:\\x22\\x22,\\x22fl\\x22:true,\\x22host\\x22:\\x22google.com\\x22,\\x22jsonp\\x22:true,\\x22msgs\\x22:{\\x22cibl\\x22:\\x22Wyczy\\\\u015b\\\\u0107 wyszukiwanie\\x22,\\x22dym\\x22:\\x22Czy chodzi\\\\u0142o Ci o:\\x22,\\x22lcky\\x22:\\x22Szcz\\\\u0119\\\\u015bliwy traf\\x22,\\x22lml\\x22:\\x22Wi\\\\u0119cej informacji\\x22,\\x22psrc\\x22:\\x22To wyszukiwanie zosta\\\\u0142o usuni\\\\u0119te z Twojej \\\\u003Ca href\\x3d\\\\\\x22/history\\\\\\x22\\\\u003EHistorii online\\\\u003C/a\\\\u003E\\x22,\\x22psrl\\x22:\\x22Usu\\\\u0144\\x22,\\x22sbit\\x22:\\x22Wyszukiwanie obrazem\\x22,\\x22srch\\x22:\\x22Szukaj w Google\\x22},\\x22ovr\\x22:{},\\x22pq\\x22:\\x22\\x22,\\x22rfs\\x22:[],\\x22sbas\\x22:\\x220 3px 8px 0 rgba(0,0,0,0.2),0 0 0 1px rgba(0,0,0,0.08)\\x22,\\x22stok\\x22:\\x229nKlzGtU2vNYsz-Xl9_X9AwElLA\\x22}}';google.pmc=JSON.parse(pmc);})();(function(){var b=function(a){var c=0;return function(){return c<a.length?{done:!1,value:a[c++]}:{done:!0}}};\n",
      "var e=this||self;var g,h;a:{for(var k=[\"CLOSURE_FLAGS\"],l=e,n=0;n<k.length;n++)if(l=l[k[n]],null==l){h=null;break a}h=l}var p=h&&h[610401301];g=null!=p?p:!1;var q,r=e.navigator;q=r?r.userAgentData||null:null;function t(a){return g?q?q.brands.some(function(c){return(c=c.brand)&&-1!=c.indexOf(a)}):!1:!1}function u(a){var c;a:{if(c=e.navigator)if(c=c.userAgent)break a;c=\"\"}return-1!=c.indexOf(a)};function v(){return g?!!q&&0<q.brands.length:!1}function w(){return u(\"Safari\")&&!(x()||(v()?0:u(\"Coast\"))||(v()?0:u(\"Opera\"))||(v()?0:u(\"Edge\"))||(v()?t(\"Microsoft Edge\"):u(\"Edg/\"))||(v()?t(\"Opera\"):u(\"OPR\"))||u(\"Firefox\")||u(\"FxiOS\")||u(\"Silk\")||u(\"Android\"))}function x(){return v()?t(\"Chromium\"):(u(\"Chrome\")||u(\"CriOS\"))&&!(v()?0:u(\"Edge\"))||u(\"Silk\")}function y(){return u(\"Android\")&&!(x()||u(\"Firefox\")||u(\"FxiOS\")||(v()?0:u(\"Opera\"))||u(\"Silk\"))};var z=v()?!1:u(\"Trident\")||u(\"MSIE\");y();x();w();Object.freeze({});var A=!z&&!w(),D=function(a){if(/-[a-z]/.test(\"ved\"))return null;if(A&&a.dataset){if(y()&&!(\"ved\"in a.dataset))return null;a=a.dataset.ved;return void 0===a?null:a}return a.getAttribute(\"data-\"+\"ved\".replace(/([A-Z])/g,\"-$1\").toLowerCase())};var E=[],F=null;function G(a){a=a.target;var c=performance.now(),f=[],H=f.concat,d=E;if(!(d instanceof Array)){var m=\"undefined\"!=typeof Symbol&&Symbol.iterator&&d[Symbol.iterator];if(m)d=m.call(d);else if(\"number\"==typeof d.length)d={next:b(d)};else throw Error(\"a`\"+String(d));for(var B=[];!(m=d.next()).done;)B.push(m.value);d=B}E=H.call(f,d,[c]);if(a&&a instanceof HTMLElement)if(a===F){if(c=4<=E.length)c=5>(E[E.length-1]-E[E.length-4])/1E3;if(c){c=google.getEI(a);a.hasAttribute(\"data-ved\")?f=a?D(a)||\"\":\"\":f=(f=\n",
      "a.closest(\"[data-ved]\"))?D(f)||\"\":\"\";f=f||\"\";if(a.hasAttribute(\"jsname\"))a=a.getAttribute(\"jsname\");else{var C;a=null==(C=a.closest(\"[jsname]\"))?void 0:C.getAttribute(\"jsname\")}google.log(\"rcm\",\"&ei=\"+c+\"&ved=\"+f+\"&jsname=\"+(a||\"\"))}}else F=a,E=[c]}window.document.addEventListener(\"DOMContentLoaded\",function(){document.body.addEventListener(\"click\",G)});}).call(this);</script></body></html>\n"
     ]
    }
   ],
   "source": [
    "import urllib.request\n",
    "\n",
    "response = urllib.request.urlopen(\"http://google.com/\")\n",
    "code = response.getcode()\n",
    "content = response.read().decode(\"utf-8\")\n",
    "\n",
    "print(code, content)"
   ]
  },
  {
   "cell_type": "markdown",
   "metadata": {},
   "source": [
    "Widać że status jest 200, czyli wszystko jest w porządku. Widać też że jest to strona z kodem HTML."
   ]
  },
  {
   "cell_type": "markdown",
   "metadata": {},
   "source": [
    "### Zadanie 5 oraz 6\n",
    "Utworzyć serwer HTTP z wykorzystaniem klasy BaseHTTPRequestHandler i HTTPServer."
   ]
  },
  {
   "cell_type": "code",
   "execution_count": null,
   "metadata": {},
   "outputs": [],
   "source": [
    "import os\n",
    "import http.server\n",
    "\n",
    "class MyRequestHandler(http.server.BaseHTTPRequestHandler):\n",
    "\n",
    "    def do_GET(self):\n",
    "        path = self.path\n",
    "\n",
    "        if path == \"/\":\n",
    "            self.send_response(200)\n",
    "            self.send_header(\"Content-type\", \"text/html\")\n",
    "            self.end_headers()\n",
    "\n",
    "            with open(os.path.join(os.path.dirname(__file__), \"index.html\"), \"rb\") as f:\n",
    "                self.wfile.write(f.read())\n",
    "        else:\n",
    "            try:\n",
    "                with open(path, \"rb\") as f:\n",
    "                    self.send_response(200)\n",
    "                    self.send_header(\"Content-type\", f.info.get(\"Content-Type\"))\n",
    "                    self.end_headers()\n",
    "                    self.wfile.write(f.read())\n",
    "            except FileNotFoundError:\n",
    "                self.send_response(404)\n",
    "                self.send_header(\"Content-type\", \"text/html\")\n",
    "                self.end_headers()\n",
    "                self.wfile.write(b\"<h1>Not found :0</h1>\")\n",
    "\n",
    "\n",
    "server = http.server.HTTPServer((\"localhost\", 8000), MyRequestHandler)\n",
    "print(\"Server started on http://localhost:8000\")\n",
    "server.serve_forever()"
   ]
  },
  {
   "cell_type": "code",
   "execution_count": null,
   "metadata": {
    "vscode": {
     "languageId": "html"
    }
   },
   "outputs": [],
   "source": [
    "# Przykładowy HTML\n",
    "<!DOCTYPE html>\n",
    "<html lang=\"en\">\n",
    "   <head>\n",
    "      <meta charset=\"UTF-8\" />\n",
    "      <meta name=\"viewport\" content=\"width=device-width, initial-scale=1.0\" />\n",
    "      <title>My Landing Page</title>\n",
    "   </head>\n",
    "   <style>\n",
    "      body {\n",
    "         background-color: #111;\n",
    "         font-family: Arial, Helvetica, sans-serif;\n",
    "         font-size: 1.2rem;\n",
    "         color: #f4f4f4;\n",
    "      }\n",
    "      h1 {\n",
    "         text-align: center;\n",
    "         font-size: 3rem;\n",
    "         margin-top: 2rem;\n",
    "      }\n",
    "      p {\n",
    "         text-align: center;\n",
    "         font-size: 1.5rem;\n",
    "         margin-top: 2rem;\n",
    "      }\n",
    "   </style>\n",
    "   <body>\n",
    "      <h1>Welcome to my landing page!</h1>\n",
    "      <p>Thanks for visiting. Please check back soon for updates.</p>\n",
    "   </body>\n",
    "</html>\n"
   ]
  },
  {
   "cell_type": "markdown",
   "metadata": {},
   "source": [
    "### Zadanie 7\n",
    "Zapoznać się z biblioteką requests i pokazać na różnych przykładach jej możliwości."
   ]
  },
  {
   "cell_type": "markdown",
   "metadata": {},
   "source": [
    "Robi polączenie do API ze zdięciami piesów i zapisuje je do pliku."
   ]
  },
  {
   "cell_type": "code",
   "execution_count": null,
   "metadata": {},
   "outputs": [],
   "source": [
    "import requests\n",
    "\n",
    "response = requests.get(\"https://random.dog/woof.json\")\n",
    "\n",
    "if response.status_code == 200:\n",
    "    data = response.json()\n",
    "    image_url = data[\"url\"]\n",
    "\n",
    "    image_response = requests.get(image_url)\n",
    "    if image_response.status_code == 200:\n",
    "        with open(\"random_dog.jpg\", \"wb\") as file:\n",
    "            file.write(image_response.content)\n",
    "        print(\"Image downloaded successfully!\")\n",
    "    else:\n",
    "        print(\"Failed to download the image.\")\n",
    "else:\n",
    "    print(\"Failed to fetch data from the API.\")"
   ]
  },
  {
   "cell_type": "markdown",
   "metadata": {},
   "source": [
    "### Zadanie 8\n",
    "Pokazać dostęp do serwera FTP z wykorzystaniem biblioteki ftplib."
   ]
  },
  {
   "cell_type": "code",
   "execution_count": 5,
   "metadata": {},
   "outputs": [
    {
     "name": "stdout",
     "output_type": "stream",
     "text": [
      "220 Wing FTP Server ready...\n",
      "List of files: ['upload', 'download']\n"
     ]
    },
    {
     "data": {
      "text/plain": [
       "'221 Goodbye.'"
      ]
     },
     "execution_count": 5,
     "metadata": {},
     "output_type": "execute_result"
    }
   ],
   "source": [
    "from ftplib import FTP\n",
    "\n",
    "ftp_host = \"demo.wftpserver.com\"\n",
    "ftp_user = \"demo\"\n",
    "ftp_password = \"demo\"\n",
    "\n",
    "ftp = FTP()\n",
    "\n",
    "ftp.connect(ftp_host)\n",
    "\n",
    "ftp.login(user=ftp_user, passwd=ftp_password)\n",
    "\n",
    "print(ftp.getwelcome())\n",
    "\n",
    "file_list = ftp.nlst()\n",
    "print(f\"List of files: {file_list}\")\n",
    "\n",
    "ftp.quit()"
   ]
  },
  {
   "cell_type": "markdown",
   "metadata": {},
   "source": [
    "## Wniosek:\n",
    "Zapoznałem się z podstawami pracy w sieci w Pythonie, nauczyłem się tworzyć proste serwery i klientów oraz korzystać z bibliotek do pracy z siecią. Chciałbym również zaznaczyć, że wcześniej wykonywałem podobne zadania w języku JavaScript, dlatego łatwiej mi było zrozumieć, jak pracować z siecią w Pythonie.\n",
    "\n",
    "## Dziekuje za uwage!"
   ]
  }
 ],
 "metadata": {
  "kernelspec": {
   "display_name": "Python 3",
   "language": "python",
   "name": "python3"
  },
  "language_info": {
   "codemirror_mode": {
    "name": "ipython",
    "version": 3
   },
   "file_extension": ".py",
   "mimetype": "text/x-python",
   "name": "python",
   "nbconvert_exporter": "python",
   "pygments_lexer": "ipython3",
   "version": "3.11.3"
  }
 },
 "nbformat": 4,
 "nbformat_minor": 2
}
