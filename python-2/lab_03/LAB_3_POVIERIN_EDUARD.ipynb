{
 "cells": [
  {
   "cell_type": "markdown",
   "metadata": {},
   "source": [
    "# Temat: \"Deskryptory / Dekoratory / Właściwości\"\n",
    "### Imię nazwisko: Eduard Povierin\n",
    "### Grupa: 2TD12A"
   ]
  },
  {
   "cell_type": "markdown",
   "metadata": {},
   "source": [
    "---"
   ]
  },
  {
   "cell_type": "markdown",
   "metadata": {},
   "source": [
    "## Zadanie #2"
   ]
  },
  {
   "cell_type": "code",
   "execution_count": 1,
   "metadata": {},
   "outputs": [
    {
     "name": "stdout",
     "output_type": "stream",
     "text": [
      "Calling decorated function\n",
      "Called example function\n",
      "example\n",
      "Docstring\n"
     ]
    }
   ],
   "source": [
    "# Porównać działanie poniższego kodu i kodu z przykładu 4. Omówić efekt wykorzystania dekoratora @wraps.\n",
    "from functools import wraps\n",
    "\n",
    "def my_decorator(f):\n",
    "    @wraps(f) # <- dodajemy dekorator\n",
    "    def wrapper(*args, **kwds):\n",
    "        \"\"\"Wraper docstring\"\"\"\n",
    "        print('Calling decorated function')\n",
    "        return f(*args, **kwds)\n",
    "    return wrapper\n",
    "\n",
    "\n",
    "@my_decorator\n",
    "def example():\n",
    "    \"\"\"Docstring\"\"\"\n",
    "    print('Called example function')\n",
    "\n",
    "example()\n",
    "print(example.__name__)\n",
    "print(example.__doc__)"
   ]
  },
  {
   "cell_type": "markdown",
   "metadata": {},
   "source": [
    "## Zadanie #3"
   ]
  },
  {
   "cell_type": "code",
   "execution_count": 7,
   "metadata": {},
   "outputs": [
    {
     "name": "stdout",
     "output_type": "stream",
     "text": [
      "Setting value...\n",
      "Setting value...\n",
      "Getting value...\n",
      "37\n",
      "Getting value...\n",
      "98.60\n"
     ]
    }
   ],
   "source": [
    "# Utworzyć własne przykłady wykorzystujące deskryptory.\n",
    "class Celsius:\n",
    "    def __init__(self, temperature=0):\n",
    "        self.temperature = temperature\n",
    "\n",
    "    def to_fahrenheit(self):\n",
    "        return (self.temperature * 1.8) + 32\n",
    "\n",
    "    def get_temperature(self):\n",
    "        print(\"Getting value...\")\n",
    "        return self._temperature\n",
    "\n",
    "    def set_temperature(self, value):\n",
    "        if value < -273:\n",
    "            raise ValueError(\"Temperatura poniżej -273 nie jest możliwa\")\n",
    "        print(\"Setting value...\")\n",
    "        self._temperature = value\n",
    "\n",
    "    temperature = property(get_temperature, set_temperature)\n",
    "\n",
    "c = Celsius()\n",
    "c.temperature = 37\n",
    "print(c.temperature)\n",
    "print(\"{:.2f}\".format(c.to_fahrenheit()))\n"
   ]
  },
  {
   "cell_type": "markdown",
   "metadata": {},
   "source": [
    "## Zadanie #4"
   ]
  },
  {
   "cell_type": "code",
   "execution_count": 9,
   "metadata": {},
   "outputs": [
    {
     "name": "stdout",
     "output_type": "stream",
     "text": [
      "2023-11-01 14:41:40 - add_numbers(3, 5)\n",
      "2023-11-01 14:41:40 - add_numbers returned 8\n",
      "8\n"
     ]
    }
   ],
   "source": [
    "# Utworzyć własne przykłady wykorzystujące dekoratory.\n",
    "from datetime import datetime\n",
    "\n",
    "def log(func):\n",
    "    def wrapper(*args, **kwargs):\n",
    "        timestamp = datetime.now().strftime('%Y-%m-%d %H:%M:%S')\n",
    "        args_str = ', '.join([str(arg) for arg in args])\n",
    "        kwargs_str = ', '.join([f'{key}={value}' for key, value in kwargs.items()])\n",
    "        all_args_str = ', '.join(filter(None, [args_str, kwargs_str]))\n",
    "        print(f'{timestamp} - {func.__name__}({all_args_str})')\n",
    "        result = func(*args, **kwargs)\n",
    "        print(f'{timestamp} - {func.__name__} returned {result}')\n",
    "        return result\n",
    "    return wrapper\n",
    "\n",
    "@log\n",
    "def add_numbers(a, b):\n",
    "    return a + b\n",
    "\n",
    "print(add_numbers(3, 5)) # Output: 8\n"
   ]
  },
  {
   "cell_type": "markdown",
   "metadata": {},
   "source": [
    "## Zadanie #5"
   ]
  },
  {
   "cell_type": "code",
   "execution_count": 15,
   "metadata": {},
   "outputs": [
    {
     "name": "stdout",
     "output_type": "stream",
     "text": [
      "Function add_numbers_timed took 1.00375 seconds to execute.\n",
      "8\n"
     ]
    }
   ],
   "source": [
    "# Napisać własny dekorator i zaprezentować jego działanie.\n",
    "\n",
    "# Importujemy moduł time, który pozwoli nam zmierzyć czas wykonania funkcji\n",
    "import time\n",
    "\n",
    "# Definiujemy dekorator measure_time, który przyjmuje funkcję jako argument\n",
    "def measure_time(func):\n",
    "    # Definiujemy wewnętrzną funkcję wrapper, która będzie wykonywać naszą funkcję i mierzyć czas jej wykonania\n",
    "    def wrapper(*args, **kwargs):\n",
    "        # Zapisujemy czas rozpoczęcia wykonywania funkcji\n",
    "        start_time = time.time()\n",
    "        # Wykonujemy funkcję i zapisujemy jej wynik\n",
    "        result = func(*args, **kwargs)\n",
    "        # Zapisujemy czas zakończenia wykonywania funkcji\n",
    "        end_time = time.time()\n",
    "        # Wypisujemy na ekranie czas wykonania funkcji\n",
    "        print(f\"Function {func.__name__} took {end_time - start_time:.5f} seconds to execute.\")\n",
    "        # Zwracamy wynik funkcji\n",
    "        return result\n",
    "    # Zwracamy wewnętrzną funkcję wrapper\n",
    "    return wrapper\n",
    "\n",
    "\n",
    "# Dekorujemy funkcję add_numbers dekoratorem measure_time\n",
    "@measure_time\n",
    "def add_numbers_timed(a, b):\n",
    "    time.sleep(1)\n",
    "    return a + b\n",
    "\n",
    "# Wywołujemy funkcję add_numbers_timed z argumentami 3 i 5\n",
    "print(add_numbers_timed(3, 5))\n"
   ]
  },
  {
   "cell_type": "markdown",
   "metadata": {},
   "source": [
    "## Zadanie #6"
   ]
  },
  {
   "cell_type": "code",
   "execution_count": 16,
   "metadata": {},
   "outputs": [
    {
     "name": "stdout",
     "output_type": "stream",
     "text": [
      "25\n",
      "30\n"
     ]
    }
   ],
   "source": [
    "# Utworzyć własne przykłady wykorzystujące funkcję property().\n",
    "class Person:\n",
    "    def __init__(self, name, age):\n",
    "        self.name = name\n",
    "        self._age = age\n",
    "\n",
    "    def get_age(self):\n",
    "        return self._age\n",
    "\n",
    "    def set_age(self, age):\n",
    "        if age < 0:\n",
    "            raise ValueError(\"Age cannot be negative\")\n",
    "        self._age = age\n",
    "\n",
    "    age = property(get_age, set_age)\n",
    "\n",
    "p = Person(\"Alice\", 25)\n",
    "print(p.age) # 25\n",
    "p.age = 30\n",
    "print(p.age) # 30\n"
   ]
  },
  {
   "cell_type": "markdown",
   "metadata": {},
   "source": [
    "## Zadanie #7"
   ]
  },
  {
   "cell_type": "code",
   "execution_count": 17,
   "metadata": {},
   "outputs": [
    {
     "name": "stdout",
     "output_type": "stream",
     "text": [
      "15\n",
      "16\n"
     ]
    }
   ],
   "source": [
    "# Utworzyć własne przykłady wykorzystujące dekorator property().\n",
    "class Rectangle:\n",
    "    def __init__(self, length, width):\n",
    "        self.length = length\n",
    "        self.width = width\n",
    "\n",
    "    @property\n",
    "    def area(self):\n",
    "        return self.length * self.width\n",
    "\n",
    "    @property\n",
    "    def perimeter(self):\n",
    "        return 2 * (self.length + self.width)\n",
    "\n",
    "r = Rectangle(5, 3)\n",
    "print(r.area) # 15\n",
    "print(r.perimeter) # 16\n"
   ]
  },
  {
   "cell_type": "markdown",
   "metadata": {},
   "source": [
    "## Dziękuję za uwagę!"
   ]
  }
 ],
 "metadata": {
  "kernelspec": {
   "display_name": "Python 3",
   "language": "python",
   "name": "python3"
  },
  "language_info": {
   "codemirror_mode": {
    "name": "ipython",
    "version": 3
   },
   "file_extension": ".py",
   "mimetype": "text/x-python",
   "name": "python",
   "nbconvert_exporter": "python",
   "pygments_lexer": "ipython3",
   "version": "3.11.3"
  }
 },
 "nbformat": 4,
 "nbformat_minor": 2
}
