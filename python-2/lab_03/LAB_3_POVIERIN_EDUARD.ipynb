{
 "cells": [
  {
   "cell_type": "markdown",
   "metadata": {},
   "source": [
    "### Przedmiot: Python 2\n",
    "### Temat: \"Deskryptory / Dekoratory / Właściwości\"\n",
    "### Imię nazwisko: Eduard Povierin\n",
    "### Grupa: 2TD12A"
   ]
  },
  {
   "cell_type": "markdown",
   "metadata": {},
   "source": [
    "---"
   ]
  },
  {
   "cell_type": "code",
   "execution_count": 4,
   "metadata": {},
   "outputs": [
    {
     "name": "stdout",
     "output_type": "stream",
     "text": [
      "Retrieving variable x\n",
      "10\n",
      "Updating variable x\n",
      "Retrieving variable x\n",
      "20\n",
      "5\n",
      "Deleting variable x\n",
      "Retrieving variable x\n",
      "Variable is not declared\n",
      "None\n",
      "Updating variable x\n",
      "Retrieving variable x\n",
      "4\n"
     ]
    }
   ],
   "source": [
    "# 1.\n",
    "class MyDescriptor:\n",
    "    def __init__(self, init_val=None, name='var'):\n",
    "        self.val = init_val\n",
    "        self.name = name\n",
    "        \n",
    "    def __get__(self, obj, obj_type):\n",
    "        print('Retrieving', self.name)\n",
    "        try:\n",
    "            return self.val\n",
    "        except:\n",
    "            print('Variable is not declared')\n",
    "            \n",
    "    def __set__(self, obj, val):\n",
    "        print('Updating', self.name)\n",
    "        self.val = val\n",
    "        \n",
    "    def __delete__(self, obj):\n",
    "        print('Deleting', self.name)\n",
    "        try:\n",
    "            del self.val\n",
    "        except:\n",
    "            print('Variable is not declared')\n",
    "            \n",
    "            \n",
    "class MyClass:\n",
    "     x = MyDescriptor(10, 'variable x')\n",
    "     y = 5\n",
    "     \n",
    "     \n",
    "m = MyClass()\n",
    "print(m.x)\n",
    "m.x = 20\n",
    "\n",
    "print(m.x)\n",
    "print(m.y)\n",
    "\n",
    "del m.x\n",
    "print(m.x)\n",
    "\n",
    "m.x = 4\n",
    "print(m.x)"
   ]
  },
  {
   "cell_type": "code",
   "execution_count": 10,
   "metadata": {},
   "outputs": [
    {
     "name": "stdout",
     "output_type": "stream",
     "text": [
      "25\n",
      "30\n"
     ]
    }
   ],
   "source": [
    "# 2.\n",
    "class AgeDescriptor:\n",
    "     def __get__(self, obj, objtype):\n",
    "          return obj._age\n",
    "     \n",
    "     def __set__(self, obj, age):\n",
    "          if not isinstance(age, int):\n",
    "               raise TypeError(\"Age must be an integer.\")\n",
    "          if age < 0 or age > 120:\n",
    "               raise ValueError(\"Age must be between 0 and 120.\")\n",
    "          obj._age = age\n",
    "\n",
    "class Person:\n",
    "     def __init__(self, name, age):\n",
    "          self.name = name\n",
    "          self.age = age\n",
    "          \n",
    "     age = AgeDescriptor()\n",
    "\n",
    "p = Person(\"Alice\", 25)\n",
    "print(p.age)\n",
    "\n",
    "p.age = 30\n",
    "print(p.age)\n",
    "\n",
    "# p.age = \"thirty\" - Powoduje błąd"
   ]
  },
  {
   "cell_type": "code",
   "execution_count": 13,
   "metadata": {},
   "outputs": [
    {
     "name": "stdout",
     "output_type": "stream",
     "text": [
      "BMW model X7 with a fuel capacity of 40 ltr.\n",
      "Car needs refuel:  False\n",
      "Car needs refuel:  True\n",
      "Added 10 liters of fuel. Current fuel level: 15 liters\n",
      "False\n"
     ]
    }
   ],
   "source": [
    "# 3.\n",
    "class FuelCapacityDescriptor:\n",
    "    def __init__(self):\n",
    "        self.__fuel_cap = 0\n",
    "        \n",
    "    def __get__(self, instance, owner):\n",
    "        return self.__fuel_cap\n",
    "    \n",
    "    def __set__(self, instance, value):\n",
    "        if isinstance(value, int):\n",
    "            if value < 0:\n",
    "                raise ValueError(\"Fuel Capacity can never be less than zero\")\n",
    "            else:\n",
    "                self.__fuel_cap = value\n",
    "        else:\n",
    "            raise TypeError(\"Fuel Capacity can only be an integer\")\n",
    "            \n",
    "    def __delete__(self, instance):\n",
    "        del self.__fuel_cap\n",
    "        \n",
    "        \n",
    "class Car:\n",
    "    fuel_cap = FuelCapacityDescriptor()\n",
    "    \n",
    "    def __init__(self, make, model, fuel_cap):\n",
    "        self.make = make\n",
    "        self.model = model\n",
    "        self.fuel_cap = fuel_cap\n",
    "        self.fuel_level = fuel_cap\n",
    "        \n",
    "    def __str__(self):\n",
    "        return \"{0} model {1} with a fuel capacity of {2} ltr.\".format(self.make, self.model, self.fuel_cap)\n",
    "    \n",
    "    def needs_refuel(self):\n",
    "        if self.fuel_level < self.fuel_cap * 0.2:\n",
    "            return True\n",
    "        else:\n",
    "            return False\n",
    "        \n",
    "    def refuel(self, amount):\n",
    "        if amount < 0:\n",
    "            raise ValueError(\"Fuel amount can never be less than zero\")\n",
    "        elif amount == 0:\n",
    "            print(\"No fuel added\")\n",
    "        else:\n",
    "            self.fuel_level += amount\n",
    "            if self.fuel_level > self.fuel_cap:\n",
    "                self.fuel_level = self.fuel_cap\n",
    "            print(\"Added {0} liters of fuel. Current fuel level: {1} liters\".format(amount, self.fuel_level))\n",
    "        \n",
    "car2 = Car(\"BMW\", \"X7\", 40)\n",
    "print(car2)\n",
    "\n",
    "print(\"Car needs refuel: \", car2.needs_refuel())\n",
    "car2.fuel_level = 5\n",
    "\n",
    "print(\"Car needs refuel: \", car2.needs_refuel())\n",
    "car2.refuel(10)\n",
    "print(car2.needs_refuel())\n"
   ]
  },
  {
   "cell_type": "code",
   "execution_count": 16,
   "metadata": {},
   "outputs": [
    {
     "name": "stdout",
     "output_type": "stream",
     "text": [
      "Whee!\n",
      "Time taken:  0.00014495849609375\n"
     ]
    }
   ],
   "source": [
    "# 4.\n",
    "import time\n",
    "\n",
    "def timer_decorator(func):\n",
    "    def wrapper():\n",
    "        start_time = time.time()\n",
    "        func()\n",
    "        end_time = time.time()\n",
    "        print(\"Time taken: \", end_time - start_time)\n",
    "    return wrapper\n",
    "\n",
    "@timer_decorator\n",
    "def say_whee():\n",
    "    print(\"Whee!\")\n",
    "\n",
    "say_whee()\n"
   ]
  },
  {
   "cell_type": "code",
   "execution_count": 25,
   "metadata": {},
   "outputs": [
    {
     "name": "stdout",
     "output_type": "stream",
     "text": [
      "Something is happening before the function is called.\n",
      "Whee!\n",
      "Something is happening after the function is called.\n",
      "Time taken:  5.7220458984375e-06\n"
     ]
    }
   ],
   "source": [
    "# 5. \n",
    "import time\n",
    "\n",
    "def my_decorator(func):\n",
    "    def wrapper():\n",
    "        print(\"Something is happening before the function is called.\")\n",
    "        start_time = time.time()\n",
    "        func()\n",
    "        end_time = time.time()\n",
    "        print(\"Something is happening after the function is called.\")\n",
    "        print(\"Time taken: \", end_time - start_time)\n",
    "    return wrapper\n",
    "\n",
    "@my_decorator\n",
    "def say_whee():\n",
    "    print(\"Whee!\")\n",
    "\n",
    "say_whee()"
   ]
  },
  {
   "cell_type": "code",
   "execution_count": 27,
   "metadata": {},
   "outputs": [
    {
     "name": "stdout",
     "output_type": "stream",
     "text": [
      "test\n",
      "test\n",
      "5\n",
      "5\n"
     ]
    }
   ],
   "source": [
    "# 6.\n",
    "def do_twice(func):\n",
    "    def wrapper_do_twice(*args, **kwargs):\n",
    "        func(*args, **kwargs)\n",
    "        func(*args, **kwargs)\n",
    "    return wrapper_do_twice\n",
    "\n",
    "@do_twice\n",
    "def my_print(text):\n",
    "    print(text)\n",
    "\n",
    "@do_twice\n",
    "def my_sum(a, b):\n",
    "    print(a + b)\n",
    "\n",
    "my_print('test')\n",
    "my_sum(2, 3)\n"
   ]
  },
  {
   "cell_type": "code",
   "execution_count": 34,
   "metadata": {},
   "outputs": [
    {
     "name": "stdout",
     "output_type": "stream",
     "text": [
      "Calling decorated function\n",
      "Called example function\n",
      "Time taken: 1.0013580322265625e-05\n",
      "example\n",
      "Docstring\n"
     ]
    }
   ],
   "source": [
    "# 7.\n",
    "from functools import wraps\n",
    "import time\n",
    "\n",
    "def my_decorator(f):\n",
    "    @wraps(f)\n",
    "    def wrapper(*args, **kwds):\n",
    "        print('Calling decorated function')\n",
    "        start_time = time.time()\n",
    "        result = f(*args, **kwds)\n",
    "        end_time = time.time()\n",
    "        print('Time taken:', end_time - start_time)\n",
    "        return result\n",
    "    return wrapper\n",
    "\n",
    "@my_decorator\n",
    "def example():\n",
    "    \"\"\"Docstring\"\"\"\n",
    "    print('Called example function')\n",
    "\n",
    "example()\n",
    "print(example.__name__)\n",
    "print(example.__doc__)\n"
   ]
  },
  {
   "cell_type": "code",
   "execution_count": 35,
   "metadata": {},
   "outputs": [
    {
     "name": "stdout",
     "output_type": "stream",
     "text": [
      "Calling decorated function\n",
      "This is a decorated function\n",
      "End of decorated function call\n",
      "example\n",
      "This is the documentation of the function\n"
     ]
    }
   ],
   "source": [
    "# 8.\n",
    "from functools import wraps\n",
    "\n",
    "def my_decorator(func):\n",
    "    @wraps(func)\n",
    "    def wrapper(*args, **kwds):\n",
    "        print('Calling decorated function')\n",
    "        value = func(*args, **kwds)\n",
    "        print('End of decorated function call')\n",
    "        return value\n",
    "    return wrapper\n",
    "\n",
    "@my_decorator\n",
    "def example():\n",
    "    \"\"\"This is the documentation of the function\"\"\"\n",
    "    print('This is a decorated function')\n",
    "\n",
    "example()\n",
    "print(example.__name__)\n",
    "print(example.__doc__)\n"
   ]
  },
  {
   "cell_type": "code",
   "execution_count": 41,
   "metadata": {},
   "outputs": [
    {
     "name": "stdout",
     "output_type": "stream",
     "text": [
      "Finished 'waste_some_time' in 0.5123 secs\n"
     ]
    }
   ],
   "source": [
    "# 9.\n",
    "from functools import wraps\n",
    "import time\n",
    "\n",
    "def timer(func):\n",
    "    \"\"\"Print the runtime of the decorated function\"\"\"\n",
    "    @wraps(func)\n",
    "    def wrapper_timer(*args, **kwargs):\n",
    "        start_time = time.perf_counter()\n",
    "        value = func(*args, **kwargs)\n",
    "        end_time = time.perf_counter()\n",
    "        run_time = end_time - start_time\n",
    "        print(f\"Finished {func.__name__!r} in {run_time:.4f} secs\")\n",
    "        return value\n",
    "    return wrapper_timer\n",
    "\n",
    "@timer\n",
    "def waste_some_time(num_times):\n",
    "    for _ in range(num_times):\n",
    "        sum([i**2 for i in range(10000)])\n",
    "        time.sleep(0.1)\n",
    "\n",
    "waste_some_time(5)"
   ]
  },
  {
   "cell_type": "code",
   "execution_count": 42,
   "metadata": {},
   "outputs": [
    {
     "name": "stdout",
     "output_type": "stream",
     "text": [
      "Setting name: john smith\n",
      "Setting age: 25\n",
      "Getting name: John Smith\n",
      "John Smith\n",
      "Getting age: 25\n",
      "25\n",
      "Deleting name: John Smith\n",
      "Deleting age: 25\n"
     ]
    }
   ],
   "source": [
    "# 10.\n",
    "class Person(object):\n",
    "    def __init__(self):\n",
    "        self._name = ''\n",
    "        self._age = 0\n",
    "        \n",
    "    def name_getter(self):\n",
    "        print(\"Getting name: %s\" % self._name)\n",
    "        return self._name\n",
    "    \n",
    "    def name_setter(self, value):\n",
    "        print(\"Setting name: %s\" % value)\n",
    "        self._name = value.title()\n",
    "        \n",
    "    def name_deleter(self):\n",
    "        print(\"Deleting name: %s\" % self._name)\n",
    "        del self._name\n",
    "        \n",
    "    def age_getter(self):\n",
    "        print(\"Getting age: %d\" % self._age)\n",
    "        return self._age\n",
    "    \n",
    "    def age_setter(self, value):\n",
    "        print(\"Setting age: %d\" % value)\n",
    "        self._age = value\n",
    "        \n",
    "    def age_deleter(self):\n",
    "        print(\"Deleting age: %d\" % self._age)\n",
    "        del self._age\n",
    "        \n",
    "    name = property(name_getter, name_setter, name_deleter, \"I'm the name property.\")\n",
    "    age = property(age_getter, age_setter, age_deleter, \"I'm the age property.\")\n",
    "    \n",
    "user = Person()\n",
    "user.name = 'john smith'\n",
    "user.age = 25\n",
    "print(user.name)\n",
    "print(user.age)\n",
    "del user.name\n",
    "del user.age\n"
   ]
  },
  {
   "cell_type": "code",
   "execution_count": 43,
   "metadata": {},
   "outputs": [
    {
     "name": "stdout",
     "output_type": "stream",
     "text": [
      "Getting value\n",
      "Hello World\n",
      "Setting value to Goodbye World\n",
      "Getting value\n",
      "Goodbye World\n",
      "Deleting value\n"
     ]
    }
   ],
   "source": [
    "# 11.\n",
    "# Alphabet class\n",
    "class Alphabet:\n",
    "    def __init__(self, value):\n",
    "        self._value = value\n",
    "    # getting the values\n",
    "    def get_value(self):\n",
    "        print('Getting value')\n",
    "        return self._value\n",
    "    # setting the values\n",
    "    def set_value(self, value):\n",
    "        print('Setting value to ' + value)\n",
    "        self._value = value\n",
    "    # deleting the values\n",
    "    def del_value(self):\n",
    "        print('Deleting value')\n",
    "        del self._value\n",
    "    value = property(get_value, set_value, del_value, )\n",
    "    \n",
    "# create an instance of the Alphabet class\n",
    "x = Alphabet('Hello World')\n",
    "\n",
    "# print the value of x\n",
    "print(x.value)\n",
    "\n",
    "# set the value of x\n",
    "x.value = 'Goodbye World'\n",
    "\n",
    "# print the new value of x\n",
    "print(x.value)\n",
    "\n",
    "# delete the value of x\n",
    "del x.value"
   ]
  },
  {
   "cell_type": "code",
   "execution_count": 44,
   "metadata": {},
   "outputs": [
    {
     "name": "stdout",
     "output_type": "stream",
     "text": [
      "Setting name: john smith\n",
      "Setting age: 25\n",
      "Getting name: John Smith\n",
      "John Smith\n",
      "Getting age: 25\n",
      "25\n",
      "Deleting name: John Smith\n",
      "Deleting age: 25\n"
     ]
    }
   ],
   "source": [
    "# 12.\n",
    "class Person:\n",
    "    def __init__(self):\n",
    "        self._name = ''\n",
    "        self._age = 0\n",
    "        \n",
    "    @property\n",
    "    def name(self):\n",
    "        print(\"Getting name: %s\" % self._name)\n",
    "        return self._name\n",
    "    \n",
    "    @name.setter\n",
    "    def name(self, value):\n",
    "        print(\"Setting name: %s\" % value)\n",
    "        self._name = value.title()\n",
    "        \n",
    "    @name.deleter\n",
    "    def name(self):\n",
    "        print(\"Deleting name: %s\" % self._name)\n",
    "        del self._name\n",
    "        \n",
    "    @property\n",
    "    def age(self):\n",
    "        print(\"Getting age: %d\" % self._age)\n",
    "        return self._age\n",
    "    \n",
    "    @age.setter\n",
    "    def age(self, value):\n",
    "        print(\"Setting age: %d\" % value)\n",
    "        self._age = value\n",
    "        \n",
    "    @age.deleter\n",
    "    def age(self):\n",
    "        print(\"Deleting age: %d\" % self._age)\n",
    "        del self._age\n",
    "        \n",
    "user = Person()\n",
    "user.name = 'john smith'\n",
    "user.age = 25\n",
    "print(user.name)\n",
    "print(user.age)\n",
    "del user.name\n",
    "del user.age\n"
   ]
  },
  {
   "cell_type": "code",
   "execution_count": 46,
   "metadata": {},
   "outputs": [
    {
     "name": "stdout",
     "output_type": "stream",
     "text": [
      "Getting value\n",
      "hello world\n",
      "Setting value to goodbye world\n",
      "Getting value\n",
      "Goodbye World\n",
      "Deleting value\n"
     ]
    }
   ],
   "source": [
    "# 13.\n",
    "class Alphabet:\n",
    "    def __init__(self, value):\n",
    "        self._value = value\n",
    "    \n",
    "    @property\n",
    "    def value(self):\n",
    "        print('Getting value')\n",
    "        return self._value\n",
    "    \n",
    "    @value.setter\n",
    "    def value(self, value):\n",
    "        print('Setting value to ' + value)\n",
    "        self._value = value.title() \n",
    "    \n",
    "    @value.deleter\n",
    "    def value(self):\n",
    "        print('Deleting value')\n",
    "        del self._value\n",
    "\n",
    "x = Alphabet('hello world')\n",
    "\n",
    "print(x.value)\n",
    "\n",
    "x.value = 'goodbye world'\n",
    "\n",
    "print(x.value)\n",
    "\n",
    "del x.value"
   ]
  }
 ],
 "metadata": {
  "kernelspec": {
   "display_name": "Python 3",
   "language": "python",
   "name": "python3"
  },
  "language_info": {
   "codemirror_mode": {
    "name": "ipython",
    "version": 3
   },
   "file_extension": ".py",
   "mimetype": "text/x-python",
   "name": "python",
   "nbconvert_exporter": "python",
   "pygments_lexer": "ipython3",
   "version": "3.11.3"
  }
 },
 "nbformat": 4,
 "nbformat_minor": 2
}
