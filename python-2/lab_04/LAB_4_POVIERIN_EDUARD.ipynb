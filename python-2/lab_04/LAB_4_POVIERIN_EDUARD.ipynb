{
 "cells": [
  {
   "cell_type": "markdown",
   "metadata": {},
   "source": [
    "# Temat: \"Programowanie GUI\"\n",
    "### Imię nazwisko: Eduard Povierin\n",
    "### Grupa: 2TD12A"
   ]
  },
  {
   "cell_type": "markdown",
   "metadata": {},
   "source": [
    "---"
   ]
  },
  {
   "cell_type": "markdown",
   "metadata": {},
   "source": [
    "# Zadanie 1:"
   ]
  },
  {
   "cell_type": "code",
   "execution_count": 6,
   "metadata": {},
   "outputs": [],
   "source": [
    "# 1\n",
    "from tkinter import *\n",
    "\n",
    "window = Tk()\n",
    "window.title(\"My prog\")\n",
    "lbl = Label(text=\"こんにちは\", font=(\"Arial Bold\", 50), fg=\"wheat\", bg=\"white\")\n",
    "lbl.grid(column=0, row=0)\n",
    "window.mainloop()"
   ]
  },
  {
   "cell_type": "markdown",
   "metadata": {},
   "source": [
    "![greeting in japanese](./greeting_jp.png)\n"
   ]
  },
  {
   "cell_type": "code",
   "execution_count": 10,
   "metadata": {},
   "outputs": [],
   "source": [
    "# 2\n",
    "from tkinter import *\n",
    "\n",
    "window = Tk()\n",
    "window.title(\"My prog\")\n",
    "lbl = Label(text=\"Enter you favorite game\", font=(\"Arial Bold\", 36), fg=\"orange\")\n",
    "entry = Entry(fg=\"black\", width=25)\n",
    "lbl.pack()\n",
    "entry.pack()\n",
    "window.mainloop()"
   ]
  },
  {
   "cell_type": "markdown",
   "metadata": {},
   "source": [
    "![enter your game](./input_game.png)"
   ]
  },
  {
   "cell_type": "code",
   "execution_count": null,
   "metadata": {},
   "outputs": [],
   "source": [
    "# 3\n",
    "from tkinter import *\n",
    "\n",
    "window = Tk()\n",
    "window.title(\"My prog\")\n",
    "\n",
    "btn1 = Button(text=\"Wheat\", fg=\"wheat\", bg=\"white\", font=(\"Arial Bold\", 36)).pack(side=\"left\")\n",
    "btn2 = Button(text=\"Lightblue\", fg=\"lightblue\", bg=\"white\", font=(\"Arial Bold\", 36)).pack(side=\"left\")\n",
    "btn3 = Button(text=\"Pink\", fg=\"pink\", bg=\"white\", font=(\"Arial Bold\", 36)).pack(side=\"left\")\n",
    "btn4 = Button(text=\"Lightgreen\", fg=\"lightgreen\", bg=\"white\", font=(\"Arial Bold\", 36)).pack(side=\"left\")\n",
    "\n",
    "window.mainloop()"
   ]
  },
  {
   "cell_type": "markdown",
   "metadata": {},
   "source": [
    "![btns](./btns.png)"
   ]
  },
  {
   "cell_type": "code",
   "execution_count": 5,
   "metadata": {},
   "outputs": [],
   "source": [
    "#4\n",
    "from tkinter import *\n",
    "\n",
    "window = Tk()\n",
    "window.title(\"My prog\")\n",
    "\n",
    "def Cookies():\n",
    "    Label(window, text = \"Yum... 🍪\").pack()\n",
    "\n",
    "btn = Button(window, text=\"Get cookies!\", bg=\"wheat\", fg=\"black\", font=(\"Arial Bold\", 36), command=Cookies)\n",
    "btn.pack()\n",
    "\n",
    "window.mainloop()\n"
   ]
  },
  {
   "cell_type": "markdown",
   "metadata": {},
   "source": [
    "![cookies](./cookies.png)"
   ]
  },
  {
   "cell_type": "code",
   "execution_count": 8,
   "metadata": {},
   "outputs": [],
   "source": [
    "import requests\n",
    "from tkinter import *\n",
    "from tkinter.ttk import *\n",
    "import requests\n",
    "\n",
    "root = Tk()\n",
    "root.resizable(False, False)\n",
    "root.title('REST Client')\n",
    "\n",
    "style = Style()\n",
    "style.configure('label', font=('Arial', 12))\n",
    "style.configure('entry', font=('Arial', 12))\n",
    "style.configure('button', font=('Arial', 12))\n",
    "style.configure('text', font=('Arial', 12))\n",
    "\n",
    "def send_request():\n",
    "    url = entry_url.get()\n",
    "    method = entry_method.get()\n",
    "    data = entry_data.get('1.0', 'end-1c')\n",
    "\n",
    "    response = requests.request(method, url, data=data)\n",
    "\n",
    "    if response.status_code == 200:\n",
    "        users = json.loads(response.content.decode())\n",
    "        for user in users:\n",
    "            print(user)\n",
    "    else:\n",
    "        print('Error code: {}'.format(response.status_code))\n",
    "\n",
    "label_url = Label(root, text='URL:')\n",
    "label_method = Label(root, text='Method:')\n",
    "entry_url = Entry(root)\n",
    "entry_method = Entry(root)\n",
    "label_response = Label(root, text='Response:')\n",
    "entry_response = Text(root)\n",
    "button_send = Button(root, text='Submit', command=send_request)\n",
    "\n",
    "label_url.grid(row=0, column=0)\n",
    "entry_url.grid(row=0, column=1)\n",
    "label_method.grid(row=1, column=0)\n",
    "entry_method.grid(row=1, column=1)\n",
    "label_response.grid(row=2, column=0)\n",
    "entry_response.grid(row=2, column=1, columnspan=2)\n",
    "button_send.grid(row=3, column=0, columnspan=2)\n",
    "\n",
    "root.mainloop()\n"
   ]
  },
  {
   "cell_type": "markdown",
   "metadata": {},
   "source": [
    "![rest](./rest.png)"
   ]
  }
 ],
 "metadata": {
  "kernelspec": {
   "display_name": "Python 3",
   "language": "python",
   "name": "python3"
  },
  "language_info": {
   "codemirror_mode": {
    "name": "ipython",
    "version": 3
   },
   "file_extension": ".py",
   "mimetype": "text/x-python",
   "name": "python",
   "nbconvert_exporter": "python",
   "pygments_lexer": "ipython3",
   "version": "3.11.3"
  }
 },
 "nbformat": 4,
 "nbformat_minor": 2
}
